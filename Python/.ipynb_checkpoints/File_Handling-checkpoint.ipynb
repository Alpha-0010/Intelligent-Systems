{
 "cells": [
  {
   "cell_type": "code",
   "execution_count": null,
   "id": "d3324b05-91ed-4c6a-a3e4-8b246f7755a3",
   "metadata": {},
   "outputs": [],
   "source": [
    "# Files are a way to store data permanently in a non-volatile memory(eg. Hard Disk)\n",
    "# File operations :- 1. Open a file 2. Read / Write (perform operation) 3. Close file"
   ]
  },
  {
   "cell_type": "code",
   "execution_count": 41,
   "id": "a2eb1812-5a82-474a-9651-bfb0524f2fde",
   "metadata": {},
   "outputs": [],
   "source": [
    "# Opening a file --> open(file_name, opening_mode)\n",
    "# Opening modes -> r(read only(default)), w(opening a file for writing, creates a file if doesnot exist or truncate of exists)\n",
    "# x(Open a file for exclusive creation, if the file exists the operation fails), \n",
    "# a(open a file for exclusive creation, if the file already exists the operation fails),\n",
    "# t(Open in text mode(default)), b(Open in binar mode), +(Open a file for updating(reading and writing))\n",
    "f = open('example.txt', 'w')\n",
    "\n",
    "# We can also open with the specific encoding format that we want to use\n",
    "f = open('example.txt', encoding = 'utf-8')"
   ]
  },
  {
   "cell_type": "code",
   "execution_count": 12,
   "id": "229d169f-ba92-41b4-9d37-38f646d83ded",
   "metadata": {},
   "outputs": [],
   "source": [
    "# Closing a file -> This not extirely safe, if an exception occurs when we are performing some operation\n",
    "# with the file, the code exits without closing the file. A safer way is to use a try...finally block.\n",
    "f = open('example.txt')\n",
    "f.close()"
   ]
  },
  {
   "cell_type": "code",
   "execution_count": 13,
   "id": "e4be35af-be51-461a-9e92-34a0906da652",
   "metadata": {},
   "outputs": [],
   "source": [
    "# Cleaner and safer way to perform operation with files\n",
    "try:\n",
    "    f = open('example.txt')\n",
    "    # perform file operations\n",
    "finally:\n",
    "    f.close()"
   ]
  },
  {
   "cell_type": "code",
   "execution_count": 14,
   "id": "b7b95078-17b2-47db-a61d-a9cb6b68d77b",
   "metadata": {},
   "outputs": [],
   "source": [
    "# Write to a file\n",
    "f = open('test.txt', 'w')\n",
    "f.write('This is the first file that\\n')\n",
    "f.write('I have created in python\\n')\n",
    "f.close()"
   ]
  },
  {
   "cell_type": "code",
   "execution_count": 18,
   "id": "cbe128af-8505-4574-b25d-c9550c5bc657",
   "metadata": {},
   "outputs": [
    {
     "data": {
      "text/plain": [
       "'This is the first file that\\nI have created in python\\n'"
      ]
     },
     "execution_count": 18,
     "metadata": {},
     "output_type": "execute_result"
    }
   ],
   "source": [
    "# Reading the file\n",
    "f = open('test.txt', 'r')\n",
    "f.read()"
   ]
  },
  {
   "cell_type": "code",
   "execution_count": 27,
   "id": "9af2a242-b644-45f5-be58-80c3a8aa6457",
   "metadata": {},
   "outputs": [
    {
     "data": {
      "text/plain": [
       "'This'"
      ]
     },
     "execution_count": 27,
     "metadata": {},
     "output_type": "execute_result"
    }
   ],
   "source": [
    "# Read the first 4 characters from the current curson location, f.read(10) -> will give the next 10 characters\n",
    "f = open('test.txt', 'r')\n",
    "f.read(4)"
   ]
  },
  {
   "cell_type": "code",
   "execution_count": 28,
   "id": "c0e9240c-d4ef-42a7-a8c4-5fe410ad70cc",
   "metadata": {},
   "outputs": [
    {
     "data": {
      "text/plain": [
       "0"
      ]
     },
     "execution_count": 28,
     "metadata": {},
     "output_type": "execute_result"
    }
   ],
   "source": [
    "# Bring the file curson to the a specific character --> f.seek(c)\n",
    "f.seek(0)"
   ]
  },
  {
   "cell_type": "code",
   "execution_count": 35,
   "id": "9d85e52e-e9b9-4765-9ea4-c1d6f767f3d9",
   "metadata": {},
   "outputs": [
    {
     "name": "stdout",
     "output_type": "stream",
     "text": [
      "This is the first file that\n",
      "\n",
      "I have created in python\n",
      "\n"
     ]
    },
    {
     "data": {
      "text/plain": [
       "['This is the first file that\\n', 'I have created in python\\n']"
      ]
     },
     "execution_count": 35,
     "metadata": {},
     "output_type": "execute_result"
    }
   ],
   "source": [
    "# Reading an entire file using a for loop\n",
    "f.seek(0)\n",
    "for line in f:\n",
    "    print(line)\n",
    "\n",
    "# Alternatively we can use readlines() method for this\n",
    "f.seek(0)\n",
    "f.readlines()"
   ]
  },
  {
   "cell_type": "code",
   "execution_count": 44,
   "id": "a80024ba-1a6c-4e02-8edd-0345b4c00c67",
   "metadata": {},
   "outputs": [],
   "source": [
    "# Rename and delete files in Python\n",
    "import os\n",
    "os.rename('example.txt', 'sample.txt')\n",
    "os.remove('sample.txt')"
   ]
  },
  {
   "cell_type": "code",
   "execution_count": 46,
   "id": "9b8350af-35a5-41ff-ba15-a07089e544fb",
   "metadata": {},
   "outputs": [
    {
     "name": "stdout",
     "output_type": "stream",
     "text": [
      "The entry is  b\n",
      "Oops!  <class 'ValueError'>  occured.\n",
      "****************Next entry******************\n",
      "The entry is  0\n",
      "Oops!  <class 'ZeroDivisionError'>  occured.\n",
      "****************Next entry******************\n",
      "The entry is  2\n",
      "The reciprocal of  2  is  0.5\n"
     ]
    }
   ],
   "source": [
    "# Exception Handling in Python --> Exceptions are handled in except block.\n",
    "\n",
    "import sys\n",
    "lst = ['b', 0, 2]\n",
    "\n",
    "for entry in lst:\n",
    "    try:\n",
    "        print(\"The entry is \", entry)\n",
    "        r = 1 / int(entry)\n",
    "    except:\n",
    "        print(\"Oops! \", sys.exc_info()[0], \" occured.\")\n",
    "        print(\"****************Next entry******************\")\n",
    "print(\"The reciprocal of \", entry, \" is \", r)\n"
   ]
  },
  {
   "cell_type": "code",
   "execution_count": 47,
   "id": "f7c8778b-3582-445f-9deb-823b3891a82e",
   "metadata": {},
   "outputs": [
    {
     "name": "stdout",
     "output_type": "stream",
     "text": [
      "The entry is  b\n",
      "This is a Value Error\n",
      "The entry is  0\n",
      "This is ZeroError\n",
      "The entry is  2\n",
      "The reciprocal of  2  is  0.5\n"
     ]
    }
   ],
   "source": [
    "# Catching specific exceptions in Python\n",
    "\n",
    "import sys\n",
    "lst = ['b', 0, 2]\n",
    "\n",
    "for entry in lst:\n",
    "    try:\n",
    "        print(\"The entry is \", entry)\n",
    "        r = 1 / int(entry)\n",
    "    except (ValueError):\n",
    "        print(\"This is a Value Error\")\n",
    "    except (ZeroDivisionError):\n",
    "        print(\"This is ZeroError\")\n",
    "    except:\n",
    "        print(\"Some other error\")\n",
    "print(\"The reciprocal of \", entry, \" is \", r)"
   ]
  },
  {
   "cell_type": "code",
   "execution_count": 49,
   "id": "f1b14a19-f61f-49c4-a081-76e2fc85397a",
   "metadata": {},
   "outputs": [],
   "source": [
    "# Raising Exceptions in your code instead of depending on the interpretor to raise an error\n",
    "raise MemoryError(\"This is a memory error\")"
   ]
  },
  {
   "cell_type": "code",
   "execution_count": 50,
   "id": "691d50e5-cb88-4310-9563-8536e2f13cc1",
   "metadata": {},
   "outputs": [
    {
     "name": "stdin",
     "output_type": "stream",
     "text": [
      "Enter a positive integer:  -10\n"
     ]
    },
    {
     "name": "stdout",
     "output_type": "stream",
     "text": [
      "Error entered negatove number\n"
     ]
    }
   ],
   "source": [
    "try:\n",
    "    num = int(input(\"Enter a positive integer: \"))\n",
    "    if num <= 0:\n",
    "        raise ValueError(\"Error entered negatove number\")\n",
    "except ValueError as e:\n",
    "    print(e)"
   ]
  },
  {
   "cell_type": "code",
   "execution_count": 52,
   "id": "4f0e49fe-a134-4e0a-bce9-7dd17c5b5c68",
   "metadata": {},
   "outputs": [],
   "source": [
    "# try...finally -> Finally block is always run, it is often use to release external resources\n",
    "try:\n",
    "    f = open('sample.txt')\n",
    "    # Perform file operations\n",
    "finally:\n",
    "    f.close()"
   ]
  },
  {
   "cell_type": "code",
   "execution_count": null,
   "id": "94862c4d-05c9-45d0-b3aa-f5662bc0c3c8",
   "metadata": {},
   "outputs": [],
   "source": []
  }
 ],
 "metadata": {
  "kernelspec": {
   "display_name": "Python 3 (ipykernel)",
   "language": "python",
   "name": "python3"
  },
  "language_info": {
   "codemirror_mode": {
    "name": "ipython",
    "version": 3
   },
   "file_extension": ".py",
   "mimetype": "text/x-python",
   "name": "python",
   "nbconvert_exporter": "python",
   "pygments_lexer": "ipython3",
   "version": "3.12.10"
  }
 },
 "nbformat": 4,
 "nbformat_minor": 5
}
