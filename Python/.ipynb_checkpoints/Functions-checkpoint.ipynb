{
 "cells": [
  {
   "cell_type": "code",
   "execution_count": 1,
   "id": "666e8271-01f3-4d17-b626-5a37d51fbf1a",
   "metadata": {},
   "outputs": [
    {
     "name": "stdout",
     "output_type": "stream",
     "text": [
      "Hello Alex\n"
     ]
    }
   ],
   "source": [
    "# function example\n",
    "def print_name(name):\n",
    "    print(\"Hello \" + str(name))\n",
    "\n",
    "print_name(\"Alex\")"
   ]
  },
  {
   "cell_type": "code",
   "execution_count": 5,
   "id": "fde8c26a-19d4-4cf0-ace9-587fc7a2b065",
   "metadata": {},
   "outputs": [
    {
     "name": "stdout",
     "output_type": "stream",
     "text": [
      "6\n"
     ]
    }
   ],
   "source": [
    "# function with return statement\n",
    "def get_sum(lst):\n",
    "    _sum = 0\n",
    "    for num in lst:\n",
    "        _sum += num\n",
    "    return _sum\n",
    "\n",
    "_sum = get_sum([1,2,3])\n",
    "print(_sum)"
   ]
  },
  {
   "cell_type": "code",
   "execution_count": 18,
   "id": "971359cb-cfc3-481c-9ecb-3bd6e0ca4bc4",
   "metadata": {},
   "outputs": [
    {
     "name": "stdout",
     "output_type": "stream",
     "text": [
      "100\n",
      "False\n",
      "False\n",
      "['__add__', '__class__', '__class_getitem__', '__contains__', '__delattr__', '__delitem__', '__dir__', '__doc__', '__eq__', '__format__', '__ge__', '__getattribute__', '__getitem__', '__getstate__', '__gt__', '__hash__', '__iadd__', '__imul__', '__init__', '__init_subclass__', '__iter__', '__le__', '__len__', '__lt__', '__mul__', '__ne__', '__new__', '__reduce__', '__reduce_ex__', '__repr__', '__reversed__', '__rmul__', '__setattr__', '__setitem__', '__sizeof__', '__str__', '__subclasshook__', 'append', 'clear', 'copy', 'count', 'extend', 'index', 'insert', 'pop', 'remove', 'reverse', 'sort']\n",
      "(4, 1)\n",
      "....................................................\n",
      "index 10 has value 10\n",
      "index 11 has value 20\n",
      "index 12 has value 30\n",
      "index 13 has value 40\n"
     ]
    }
   ],
   "source": [
    "print(abs(-100))\n",
    "print(all([1,2,3,0,4])) # There is 0(False) in the list so it will give False\n",
    "print(all([False, 1, 2])) # False is in the list so it will also give False\n",
    "\n",
    "numbers = [1, 2, 3]\n",
    "print(dir(numbers)) # List of valid attributes and methods of an object(list in this case)\n",
    "\n",
    "print(divmod(9,2)) # It returns a pair of (Quotient, Remainder)\n",
    "\n",
    "print(\"....................................................\")\n",
    "# Enumerate method adds counter to an iterable and returns it\n",
    "# Syntax: enumerate(iterable, start = 0) => Returns a pair of (Index, num)\n",
    "nums = [10, 20, 30, 40]\n",
    "for index, num in enumerate(nums, 10):\n",
    "    print(\"index {0} has value {1}\".format(index, num))\n",
    "    "
   ]
  },
  {
   "cell_type": "code",
   "execution_count": 45,
   "id": "8f24a385-0bde-4b84-964b-ef2cffd7f5fa",
   "metadata": {},
   "outputs": [
    {
     "name": "stdout",
     "output_type": "stream",
     "text": [
      "[-10, -9, -8, -7, -6, -5, -4, -3, -2, -1, 0, 1, 2, 3, 4, 5, 6, 7, 8, 9]\n",
      "[1, 2, 3, 4, 5, 6, 7, 8, 9]\n"
     ]
    }
   ],
   "source": [
    "# filter(method, list) => Filter out elements from a list based on a certain condition.\n",
    "def find_positive_number(number):\n",
    "    if number > 0:\n",
    "        return True\n",
    "\n",
    "numbers_list = range(-10, 10)\n",
    "print(list(numbers_list))\n",
    "positive_numbers = list(filter(find_positive_number, numbers_list))\n",
    "print(positive_numbers)"
   ]
  },
  {
   "cell_type": "code",
   "execution_count": 36,
   "id": "0f886258-79e6-4874-9221-34c725182c1c",
   "metadata": {},
   "outputs": [
    {
     "name": "stdout",
     "output_type": "stream",
     "text": [
      "True\n"
     ]
    }
   ],
   "source": [
    "# isinstance() method => Checks if the object(first argument) is an instance or subclass of classinfo\n",
    "# class(second argument)\n",
    "\n",
    "lst = [1, 2, 3, 4]\n",
    "print(isinstance(lst, list))"
   ]
  },
  {
   "cell_type": "code",
   "execution_count": 46,
   "id": "6af53b0d-bbd3-4ac2-8090-66303799e899",
   "metadata": {},
   "outputs": [
    {
     "name": "stdout",
     "output_type": "stream",
     "text": [
      "[1, 4, 9, 16]\n"
     ]
    }
   ],
   "source": [
    "# map(method, list) => Do some computation on individual elements of a list.\n",
    "\n",
    "numbers = [1, 2, 3, 4]\n",
    "# The task is to create a list from numbers which has the square of elements ^ 2\n",
    "# We can do this using for loop or using the map() method\n",
    "\n",
    "def powerOfTwo(num):\n",
    "    return num ** 2\n",
    "\n",
    "squared = list(map(powerOfTwo, numbers))\n",
    "print(squared)"
   ]
  },
  {
   "cell_type": "code",
   "execution_count": 47,
   "id": "0051739e-14ef-45e4-b7a7-b72c7f9c98fe",
   "metadata": {},
   "outputs": [
    {
     "name": "stdout",
     "output_type": "stream",
     "text": [
      "24\n"
     ]
    }
   ],
   "source": [
    "# reduce(method, list) => It applies computation to sequential pairs of values in the list unlike \n",
    "# filter and map which works with one number at a time in the list.\n",
    "numbers = [1, 2, 3, 4]\n",
    "\n",
    "# Now let's say we have to find the product of numbers in a list \n",
    "# We can do this using for loop or using the reduce() method\n",
    "\n",
    "def multiply(x, y):\n",
    "    return x * y\n",
    "    \n",
    "from functools import reduce\n",
    "\n",
    "product = reduce(multiply, numbers)\n",
    "print(product)\n",
    "\n",
    "# filter(), map() and reduce() are the most used predefined methods in DataScience."
   ]
  },
  {
   "cell_type": "code",
   "execution_count": 50,
   "id": "076d419a-a000-490f-9c5c-eea5e013a4cd",
   "metadata": {},
   "outputs": [
    {
     "name": "stdout",
     "output_type": "stream",
     "text": [
      "Hello Alex , Good Night\n",
      "Hello Alex , Good Morning\n"
     ]
    }
   ],
   "source": [
    "# default arguments in Python => Default arguments should be present at the end of arguments in method\n",
    "\n",
    "def greet(name, msg = \"Good Morning\"):\n",
    "    print(\"Hello {0} , {1}\".format(name, msg))\n",
    "\n",
    "greet(\"Alex\", \"Good Night\")\n",
    "greet(\"Alex\")"
   ]
  },
  {
   "cell_type": "code",
   "execution_count": 52,
   "id": "16097e13-1789-44a8-a610-b6cdb4e49324",
   "metadata": {},
   "outputs": [
    {
     "name": "stdout",
     "output_type": "stream",
     "text": [
      "Hello Alex, Good Morning\n"
     ]
    }
   ],
   "source": [
    "# Keyword Arguments => We use this if we have a variable length of arguments to a function.\n",
    "def greet(**kwargs):\n",
    "    if kwargs:\n",
    "        print(\"Hello {0}, {1}\".format(kwargs['name'], kwargs['msg']))\n",
    "\n",
    "\n",
    "greet(name = \"Alex\", msg = \"Good Morning\")\n"
   ]
  },
  {
   "cell_type": "code",
   "execution_count": 54,
   "id": "ee88f8f3-5319-4cf1-a125-e929d42d8630",
   "metadata": {},
   "outputs": [
    {
     "name": "stdout",
     "output_type": "stream",
     "text": [
      "('Alex', 'Alice', 'Bob', 'Jake')\n",
      "Hello, Alex\n",
      "Hello, Alice\n",
      "Hello, Bob\n",
      "Hello, Jake\n"
     ]
    }
   ],
   "source": [
    "# Arbitary Arguments => When we have arbitary length of arguments to pass to a function.\n",
    "\n",
    "def greet(*names):\n",
    "    print(names)\n",
    "\n",
    "    for name in names:\n",
    "        print(\"Hello, {0}\".format(name))\n",
    "\n",
    "greet(\"Alex\", \"Alice\", \"Bob\", \"Jake\")\n"
   ]
  },
  {
   "cell_type": "code",
   "execution_count": 55,
   "id": "b1a10e6a-c626-484a-a8e9-61c89a75b08f",
   "metadata": {},
   "outputs": [
    {
     "name": "stdout",
     "output_type": "stream",
     "text": [
      "120\n"
     ]
    }
   ],
   "source": [
    "# Recursion in Python\n",
    "\n",
    "# Determine the factorial of a number\n",
    "def factorial(num):\n",
    "    return 1 if num == 1 else num * factorial(num - 1)\n",
    "\n",
    "num = 5\n",
    "print(factorial(num))"
   ]
  },
  {
   "cell_type": "code",
   "execution_count": 11,
   "id": "d59f71c6-08ed-4205-9ecd-206140c6573a",
   "metadata": {},
   "outputs": [
    {
     "name": "stdout",
     "output_type": "stream",
     "text": [
      "36\n",
      "[2, 4]\n",
      "[1, 4, 9, 16, 25]\n",
      "120\n"
     ]
    }
   ],
   "source": [
    "# Anonymous / Lambda Function -> Functions defined without a name and are used extensively along with \n",
    "# in-built functions like filter() and map()\n",
    "\n",
    "double = lambda x : x *2\n",
    "print(double(18))\n",
    "\n",
    "#Example use with filter()\n",
    "lst = [1, 2, 3 , 4, 5]\n",
    "even_list = list(filter(lambda x : x % 2 == 0, lst))\n",
    "print(even_list)\n",
    "\n",
    "#Example use with map()\n",
    "new_list = list(map(lambda x : x ** 2, lst))\n",
    "print(new_list)\n",
    "\n",
    "# Example use with reduce()\n",
    "from functools import reduce\n",
    "product_list = reduce(lambda x, y : x * y, lst)\n",
    "print(product_list)"
   ]
  },
  {
   "cell_type": "code",
   "execution_count": 33,
   "id": "88ab7c0a-2c5e-411e-9dfd-1a298f6d489a",
   "metadata": {},
   "outputs": [
    {
     "name": "stdout",
     "output_type": "stream",
     "text": [
      "3.141592653589793\n",
      "2025-06-03 02:56:01.564554\n",
      "3.141592653589793\n",
      "2025-06-03 02:56:01.564554\n",
      "3.141592653589793\n"
     ]
    },
    {
     "data": {
      "text/plain": [
       "['MAXYEAR',\n",
       " 'MINYEAR',\n",
       " 'UTC',\n",
       " '__all__',\n",
       " '__builtins__',\n",
       " '__cached__',\n",
       " '__doc__',\n",
       " '__file__',\n",
       " '__loader__',\n",
       " '__name__',\n",
       " '__package__',\n",
       " '__spec__',\n",
       " 'date',\n",
       " 'datetime',\n",
       " 'datetime_CAPI',\n",
       " 'time',\n",
       " 'timedelta',\n",
       " 'timezone',\n",
       " 'tzinfo']"
      ]
     },
     "execution_count": 33,
     "metadata": {},
     "output_type": "execute_result"
    }
   ],
   "source": [
    "# Modules -> A file containing Python code eg. abc.py then its module name would be \"abc\".\n",
    "# Import a module --> import example\n",
    "# example.add(10, 20) --> Using a method from module\n",
    "\n",
    "import math\n",
    "print(math.pi)\n",
    "\n",
    "import datetime\n",
    "print(datetime.datetime.now())\n",
    "\n",
    "# Importing with renaming\n",
    "import math as m\n",
    "print(m.pi)\n",
    "\n",
    "# from... import statement\n",
    "from datetime import datetime as dt\n",
    "print(dt.now())\n",
    "\n",
    "# Import all names\n",
    "from math import *\n",
    "print(pi)\n",
    "\n",
    "# dir() built-it function will give all the names inside a module\n",
    "dir(datetime)"
   ]
  },
  {
   "cell_type": "code",
   "execution_count": 35,
   "id": "4a9f6581-8017-4f81-923f-148a5f4f6694",
   "metadata": {},
   "outputs": [],
   "source": [
    "# Packages --> The hierarchy of modules and packages are something like this :- Package -> SubPackage -> Module\n",
    "# Importing module from a package\n",
    "\n",
    "# import Game.Image.open \n",
    "# Here Game is a Package(Directory) which has a sub-package(Directory) Image and it has a file called open.py"
   ]
  },
  {
   "cell_type": "code",
   "execution_count": null,
   "id": "0e2a31d6-3886-4f8f-a309-c69c4adac911",
   "metadata": {},
   "outputs": [],
   "source": []
  }
 ],
 "metadata": {
  "kernelspec": {
   "display_name": "Python 3 (ipykernel)",
   "language": "python",
   "name": "python3"
  },
  "language_info": {
   "codemirror_mode": {
    "name": "ipython",
    "version": 3
   },
   "file_extension": ".py",
   "mimetype": "text/x-python",
   "name": "python",
   "nbconvert_exporter": "python",
   "pygments_lexer": "ipython3",
   "version": "3.12.10"
  }
 },
 "nbformat": 4,
 "nbformat_minor": 5
}
