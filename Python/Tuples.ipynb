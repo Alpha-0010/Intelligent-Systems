{
 "cells": [
  {
   "cell_type": "code",
   "execution_count": 8,
   "id": "7c9c08db-6fe5-4ac1-910e-6694ae2d77aa",
   "metadata": {},
   "outputs": [
    {
     "name": "stdout",
     "output_type": "stream",
     "text": [
      "()\n",
      "(1, 2, 3)\n",
      "(1, (2, 3, 4), 'Alex')\n"
     ]
    }
   ],
   "source": [
    "# Tuples are similar to lists, the key difference is Tuples are immutable DS.\n",
    "\n",
    "# Empty tuple\n",
    "t = ()\n",
    "print(t)\n",
    "\n",
    "# Tuple having Integers\n",
    "t = (1,2,3)\n",
    "print(t)\n",
    "\n",
    "# Nested tuple\n",
    "t = (1, (2,3,4), 'Alex')\n",
    "print(t)"
   ]
  },
  {
   "cell_type": "code",
   "execution_count": 11,
   "id": "5e5790d5-a3e2-4ab0-aa9c-49a0554144db",
   "metadata": {},
   "outputs": [
    {
     "name": "stdout",
     "output_type": "stream",
     "text": [
      "<class 'str'>\n",
      "<class 'tuple'>\n",
      "<class 'tuple'>\n"
     ]
    }
   ],
   "source": [
    "# We will need to add a , after Strings to make it work like a tuple or else it will work like a Str.\n",
    "t = ('Alex')\n",
    "print(type(t))\n",
    "\n",
    "t = ('Alex',)\n",
    "print(type(t))\n",
    "\n",
    "t = 'Alex',\n",
    "print(type(t))"
   ]
  },
  {
   "cell_type": "code",
   "execution_count": 18,
   "id": "f98ef098-787d-4bf4-a786-ba28fd3bb854",
   "metadata": {},
   "outputs": [
    {
     "name": "stdout",
     "output_type": "stream",
     "text": [
      "2\n",
      "(4, 5)\n",
      "4\n"
     ]
    }
   ],
   "source": [
    "# Accessing elements in a Tuple\n",
    "t = (1,2,3,'Alex')\n",
    "print(t[1])\n",
    "\n",
    "# Nested Tuple accessing elements\n",
    "t=(1,2,3,(4,5))\n",
    "print(t[3])\n",
    "print(t[3][0])"
   ]
  },
  {
   "cell_type": "code",
   "execution_count": 26,
   "id": "1c5b0a92-6047-483a-8bca-1b433b0b4bc2",
   "metadata": {},
   "outputs": [
    {
     "name": "stdout",
     "output_type": "stream",
     "text": [
      "(2, 3, 4)\n",
      "(1, 2, 3, 4)\n",
      "(1, 2, 3, 4, 5, 6)\n"
     ]
    }
   ],
   "source": [
    "# Slicing in Tuple (Similar to Lists)\n",
    "t = (1, 2, 3, 4, 5, 6)\n",
    "print(t[1:4])\n",
    "print(t[:-2])\n",
    "print(t[:])\n",
    "# t[2] = 'x' # This will throw an error since tuples are immutable"
   ]
  },
  {
   "cell_type": "code",
   "execution_count": 31,
   "id": "fb992185-3a57-428e-9aa1-a5839ba330df",
   "metadata": {},
   "outputs": [
    {
     "name": "stdout",
     "output_type": "stream",
     "text": [
      "(1, 2, 3, [-1, 5])\n",
      "(1, 2, 3, 4, 5, 6)\n"
     ]
    }
   ],
   "source": [
    "# A list in a tuple is mutable\n",
    "t = (1,2,3,[4,5])\n",
    "t[3][0] = -1\n",
    "print(t)\n",
    "\n",
    "# Concatenation in Tuples\n",
    "t = (1,2,3) + (4,5,6)\n",
    "print(t)"
   ]
  },
  {
   "cell_type": "code",
   "execution_count": 33,
   "id": "97df8f90-6835-4316-bd23-3237e21304b5",
   "metadata": {},
   "outputs": [],
   "source": [
    "# Tuple deletion, we can only delete the whole tuple but we can't delete individual elements since\n",
    "# Tuples are immutable\n",
    "t = (1,2,3,4,5)\n",
    "del t"
   ]
  },
  {
   "cell_type": "code",
   "execution_count": 45,
   "id": "426e9cfd-d3e0-42f0-9fdd-3206847699cf",
   "metadata": {},
   "outputs": [
    {
     "name": "stdout",
     "output_type": "stream",
     "text": [
      "2\n",
      "2\n",
      "True\n",
      "False\n",
      "False\n"
     ]
    }
   ],
   "source": [
    "# Tuple Count\n",
    "t = (1, 2, 3, 4, 1, 3)\n",
    "print(t.count(1))\n",
    "\n",
    "# Tuple Index --> Returns the Index of the first occurence of the element in the Tuple\n",
    "print(t.index(3))\n",
    "\n",
    "# Tuple Membership\n",
    "print(1 in t)\n",
    "print(5 in t)\n",
    "print(1 not in t)"
   ]
  },
  {
   "cell_type": "code",
   "execution_count": 50,
   "id": "e213cc98-93fe-4204-b5ef-51c0966ce031",
   "metadata": {},
   "outputs": [
    {
     "name": "stdout",
     "output_type": "stream",
     "text": [
      "5\n",
      "[1, 2, 3, 4, 5]\n",
      "5\n",
      "1\n",
      "15\n"
     ]
    }
   ],
   "source": [
    "# Built in Functions\n",
    "t = (2, 3, 4, 1 ,5)\n",
    "print(len(t))\n",
    "new_t = sorted(t)\n",
    "print(new_t)\n",
    "print(max(t))\n",
    "print(min(t))\n",
    "print(sum(t))"
   ]
  },
  {
   "cell_type": "code",
   "execution_count": null,
   "id": "62548cb9-e3a7-4910-a702-593e7f7fefda",
   "metadata": {},
   "outputs": [],
   "source": []
  }
 ],
 "metadata": {
  "kernelspec": {
   "display_name": "Python 3 (ipykernel)",
   "language": "python",
   "name": "python3"
  },
  "language_info": {
   "codemirror_mode": {
    "name": "ipython",
    "version": 3
   },
   "file_extension": ".py",
   "mimetype": "text/x-python",
   "name": "python",
   "nbconvert_exporter": "python",
   "pygments_lexer": "ipython3",
   "version": "3.12.10"
  }
 },
 "nbformat": 4,
 "nbformat_minor": 5
}
