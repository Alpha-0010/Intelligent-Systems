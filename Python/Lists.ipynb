{
 "cells": [
  {
   "cell_type": "code",
   "execution_count": 4,
   "id": "0f656c4d-7aec-470e-b1e0-a96b4811c7cb",
   "metadata": {},
   "outputs": [
    {
     "name": "stdout",
     "output_type": "stream",
     "text": [
      "[[1, 2], [3, 4]]\n"
     ]
    }
   ],
   "source": [
    "# Lists\n",
    "# It is a sequence DS. Lists are enclosed in []. Each Itrm has an assigned index value.\n",
    "# Each item in a list is separated by comma and lists are mutable.\n",
    "emptyList = []\n",
    "lst = ['one','two','three',4]\n",
    "lst1 = [[1,2],[3,4]] # List of lists\n",
    "print(lst1)"
   ]
  },
  {
   "cell_type": "code",
   "execution_count": 13,
   "id": "0020f3e3-bd3c-46bb-8569-75169bcf5b7d",
   "metadata": {},
   "outputs": [
    {
     "name": "stdout",
     "output_type": "stream",
     "text": [
      "4\n",
      "[1, 2, 3, 4, 5]\n",
      "[1, 2, 3, 0, 4, 5]\n",
      "[1, 2, 3, 4, 5]\n"
     ]
    }
   ],
   "source": [
    "lst = [1,2,3,4]\n",
    "print(len(lst))\n",
    "lst.append(5)\n",
    "print(lst)\n",
    "lst.insert(3,0) # Insert 0 at the 3rd Index\n",
    "print(lst)\n",
    "lst.remove(0) # Remove the first 0 from the left of the list.\n",
    "print(lst)"
   ]
  },
  {
   "cell_type": "code",
   "execution_count": 21,
   "id": "35a7aa74-7953-405f-8d52-3b3863e78caf",
   "metadata": {},
   "outputs": [
    {
     "name": "stdout",
     "output_type": "stream",
     "text": [
      "[1, 2, 3, 4, [5, 6]]\n",
      "[1, 2, 3, 4, 5, 6]\n",
      "[2, 3, 4, 5, 6]\n"
     ]
    }
   ],
   "source": [
    "lst1 = [1,2,3,4]\n",
    "lst2 = [5,6]\n",
    "lst1.append(lst2)\n",
    "print(lst1)\n",
    "lst3 = [1,2,3,4]\n",
    "lst3.extend(lst2)\n",
    "print(lst3)\n",
    "del lst3[0] # del list[index] or a = lst3.pop(index)\n",
    "print(lst3)"
   ]
  },
  {
   "cell_type": "code",
   "execution_count": 6,
   "id": "92f8a152-3a6e-4561-848e-546fd0d5dbcb",
   "metadata": {},
   "outputs": [
    {
     "name": "stdout",
     "output_type": "stream",
     "text": [
      "[4, 3, 2, 1]\n"
     ]
    }
   ],
   "source": [
    "# in and not in are 2 keywords that we can use in list operations\n",
    "lst = [1,2,3,4]\n",
    "lst.reverse()\n",
    "print(lst)"
   ]
  },
  {
   "cell_type": "code",
   "execution_count": 14,
   "id": "37e09322-aa09-42df-93f7-165660a7c4bf",
   "metadata": {},
   "outputs": [
    {
     "name": "stdout",
     "output_type": "stream",
     "text": [
      "Ascending Order:  [1, 2, 3, 4, 5]\n",
      "Descending Order:  [5, 4, 3, 2, 1]\n",
      "Sorted numbers list:  [1, 2, 3, 4, 5]\n"
     ]
    }
   ],
   "source": [
    "# List Sorting\n",
    "numbers = [3,1,2,4,5]\n",
    "# Reverse sorted list\n",
    "print(\"Ascending Order: \", sorted(numbers))\n",
    "print(\"Descending Order: \", sorted(numbers, reverse = True))\n",
    "\n",
    "# Sort the list and store in itself\n",
    "numbers.sort()\n",
    "print(\"Sorted numbers list: \", numbers)"
   ]
  },
  {
   "cell_type": "code",
   "execution_count": 19,
   "id": "09cf8981-975a-4456-9357-7e1406769ecf",
   "metadata": {},
   "outputs": [
    {
     "name": "stdout",
     "output_type": "stream",
     "text": [
      "[1, 2, 3, 4, 6]\n"
     ]
    }
   ],
   "source": [
    "# List having reference in Python\n",
    "lst = [1,2,3,4]\n",
    "abc = lst\n",
    "# Now abc is pointing to the memory address that lst is pointing to, \n",
    "# if we change abc then lst will also change\n",
    "abc.append(6)\n",
    "print(lst)"
   ]
  },
  {
   "cell_type": "code",
   "execution_count": 22,
   "id": "1aed9684-7750-404b-9ff0-409f117f5b82",
   "metadata": {},
   "outputs": [
    {
     "name": "stdout",
     "output_type": "stream",
     "text": [
      "['1', '2', '3', '4']\n"
     ]
    }
   ],
   "source": [
    "# Split string to create a list (using a delimiter)\n",
    "s = \"1,2,3,4\"\n",
    "stringList = s.split(',')\n",
    "print(stringList)"
   ]
  },
  {
   "cell_type": "code",
   "execution_count": 38,
   "id": "0bcb63a7-236a-4f20-9c5b-fcc1dd381ab8",
   "metadata": {},
   "outputs": [
    {
     "name": "stdout",
     "output_type": "stream",
     "text": [
      "2 4\n",
      "[10, 20, 30, 40, 50, 60]\n",
      "[10, 20, 30, 40]\n",
      "[30, 50]\n",
      "[1, 2, 3, 4, 10, 20, 30, 40, 50, 60]\n",
      "3\n"
     ]
    }
   ],
   "source": [
    "# List Indexing\n",
    "nums = [1,2,3,4]\n",
    "print(nums[1], nums[-1])\n",
    "\n",
    "#List Slicing\n",
    "numbers = [10, 20, 30, 40, 50, 60]\n",
    "print(numbers)\n",
    "print(numbers[0:4]) # [start, end - 1]\n",
    "print(numbers[2::2]) # [start, end - 1, step_size]\n",
    "\n",
    "# List extend using \"+\"\n",
    "new_list = nums + numbers\n",
    "print(new_list)\n",
    "\n",
    "# List Count - Gives the frequency of an element in a list\n",
    "list = [1, 3, 4, 5, 1, 5, 1, 10]\n",
    "print(list.count(1))"
   ]
  },
  {
   "cell_type": "code",
   "execution_count": 40,
   "id": "5105a867-e491-4825-87f0-b6514d3650fc",
   "metadata": {},
   "outputs": [
    {
     "name": "stdout",
     "output_type": "stream",
     "text": [
      "1 2 3 4 5 "
     ]
    }
   ],
   "source": [
    "# List looping\n",
    "list = [1, 2, 3, 4, 5]\n",
    "for elem in list:\n",
    "    print(elem, end = \" \")"
   ]
  },
  {
   "cell_type": "code",
   "execution_count": 46,
   "id": "5738fb3f-be1e-4d4c-951d-676de5216981",
   "metadata": {},
   "outputs": [
    {
     "name": "stdout",
     "output_type": "stream",
     "text": [
      "[0, 1, 4, 9, 16, 25, 36, 49, 64, 81]\n",
      "[0, 10, 20]\n"
     ]
    }
   ],
   "source": [
    "# List Comprehension --> Creating lists without using loops\n",
    "squares = [i ** 2 for i in range(10)]\n",
    "print(squares)\n",
    "\n",
    "list = [-1, 0, -1, 10, 20]\n",
    "new_list = [i for i in list if i >= 0]\n",
    "print(new_list)"
   ]
  },
  {
   "cell_type": "code",
   "execution_count": 60,
   "id": "c6451c16-9bee-4910-8024-edcfe56f3e24",
   "metadata": {},
   "outputs": [
    {
     "name": "stdout",
     "output_type": "stream",
     "text": [
      "[[1, 5, 9], [2, 6, 10], [3, 7, 11], [4, 8, 12]]\n",
      "[[1, 5, 9], [2, 6, 10], [3, 7, 11], [4, 8, 12]]\n"
     ]
    }
   ],
   "source": [
    "# Nested List Comprehensions\n",
    "matrix = [\n",
    "    [1, 2, 3, 4],\n",
    "    [5, 6, 7, 8],\n",
    "    [9, 10, 11, 12]\n",
    "]\n",
    "\n",
    "rows = len(matrix)\n",
    "cols = len(matrix[0])\n",
    "\n",
    "# Using for loops\n",
    "transposed_matrix = []\n",
    "for i in range(cols):\n",
    "    transposed_row = []\n",
    "    for j in range(rows):\n",
    "        transposed_row.append(matrix[j][i])\n",
    "    transposed_matrix.append(transposed_row)\n",
    "    \n",
    "print(transposed_matrix)\n",
    "\n",
    "# Using List Comprehension\n",
    "transposed_matrix_using_list_comprehension = [[row[i] for row in matrix] for i in range(cols)]\n",
    "print(transposed_matrix_using_list_comprehension)"
   ]
  }
 ],
 "metadata": {
  "kernelspec": {
   "display_name": "Python 3 (ipykernel)",
   "language": "python",
   "name": "python3"
  },
  "language_info": {
   "codemirror_mode": {
    "name": "ipython",
    "version": 3
   },
   "file_extension": ".py",
   "mimetype": "text/x-python",
   "name": "python",
   "nbconvert_exporter": "python",
   "pygments_lexer": "ipython3",
   "version": "3.12.10"
  }
 },
 "nbformat": 4,
 "nbformat_minor": 5
}
