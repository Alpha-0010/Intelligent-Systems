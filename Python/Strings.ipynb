{
 "cells": [
  {
   "cell_type": "code",
   "execution_count": 7,
   "id": "1fc55283-886e-466e-9535-c7153182ea95",
   "metadata": {},
   "outputs": [
    {
     "name": "stdout",
     "output_type": "stream",
     "text": [
      "Hello\n",
      "5\n"
     ]
    }
   ],
   "source": [
    "# A String is a sequence of characters and Strings are immutable in Python.\n",
    "string = 'Hello'\n",
    "print(string)\n",
    "print(len(string))"
   ]
  },
  {
   "cell_type": "code",
   "execution_count": 9,
   "id": "454bb769-404b-4b90-adaa-12e7208ae3cf",
   "metadata": {},
   "outputs": [
    {
     "name": "stdout",
     "output_type": "stream",
     "text": [
      "e\n",
      "l\n"
     ]
    }
   ],
   "source": [
    "# Accessing characters in a string, if we try to access out of index elements then we will get Index out of range error.\n",
    "string = \"Hello\"\n",
    "print(string[1])\n",
    "print(string[-2])\n",
    "\n",
    "# del string --> Deletes the whole string but we can't delete individual elements in a string"
   ]
  },
  {
   "cell_type": "code",
   "execution_count": 34,
   "id": "a2b88857-9504-4954-96f0-70ce1d979e38",
   "metadata": {},
   "outputs": [
    {
     "name": "stdout",
     "output_type": "stream",
     "text": [
      "Hello World\n",
      "Hello Hello Hello \n",
      "hello \n",
      "HELLO \n",
      "['Hello', 'World']\n",
      "Hello-World\n",
      "3\n",
      "Good Morning\n",
      "['O', 'L', 'L', 'E', 'H']\n",
      "Python program sort string the to\n"
     ]
    }
   ],
   "source": [
    "# Operations in Strings\n",
    "string1 = \"Hello \"\n",
    "string2 = \"World\"\n",
    "print(string1 + string2)\n",
    "print(string1 * 3)\n",
    "\n",
    "print(string1.lower())\n",
    "print(string1.upper())\n",
    "\n",
    "string = string1 + string2\n",
    "print(string.split())\n",
    "print('-'.join(['Hello', 'World']))\n",
    "print(string.find(\"lo\")) # Prints the Index of the substring in the string\n",
    "\n",
    "s1 = \"Bad Morning\"\n",
    "s2 = s1.replace(\"Bad\", \"Good\")\n",
    "print(s2)\n",
    "\n",
    "# Reverse a string using the reversed function\n",
    "s1 = \"HELLO\"\n",
    "print(list(reversed(s1)))\n",
    "\n",
    "# Sort a string -> To sort a string we can convert string into list using the split() function and then sort it.\n",
    "my_string = \"Python program to sort the string\"\n",
    "words = my_string.split()\n",
    "words.sort()\n",
    "print(' '.join(words)) # Convert the words list back into a string"
   ]
  },
  {
   "cell_type": "code",
   "execution_count": 35,
   "id": "9b88aff9-a327-4313-88cc-bc179cae28d2",
   "metadata": {},
   "outputs": [
    {
     "name": "stdout",
     "output_type": "stream",
     "text": [
      "2\n"
     ]
    }
   ],
   "source": [
    "# Iteration over String\n",
    "s = \"HELLO\"\n",
    "string = s.lower()\n",
    "countOfVowels = 0\n",
    "\n",
    "for c in string:\n",
    "    if c == 'a' or c == 'e' or c == 'i' or c == 'o' or c == 'u':\n",
    "        countOfVowels += 1\n",
    "\n",
    "print(countOfVowels)"
   ]
  },
  {
   "cell_type": "code",
   "execution_count": null,
   "id": "a13195c8-e394-423a-9d80-ed60f97568ea",
   "metadata": {},
   "outputs": [],
   "source": []
  }
 ],
 "metadata": {
  "kernelspec": {
   "display_name": "Python 3 (ipykernel)",
   "language": "python",
   "name": "python3"
  },
  "language_info": {
   "codemirror_mode": {
    "name": "ipython",
    "version": 3
   },
   "file_extension": ".py",
   "mimetype": "text/x-python",
   "name": "python",
   "nbconvert_exporter": "python",
   "pygments_lexer": "ipython3",
   "version": "3.12.10"
  }
 },
 "nbformat": 4,
 "nbformat_minor": 5
}
