{
 "cells": [
  {
   "cell_type": "code",
   "execution_count": 9,
   "id": "9f932717-b016-4378-b0f8-3218dbd131d8",
   "metadata": {},
   "outputs": [
    {
     "name": "stdout",
     "output_type": "stream",
     "text": [
      "['False', 'None', 'True', 'and', 'as', 'assert', 'async', 'await', 'break', 'class', 'continue', 'def', 'del', 'elif', 'else', 'except', 'finally', 'for', 'from', 'global', 'if', 'import', 'in', 'is', 'lambda', 'nonlocal', 'not', 'or', 'pass', 'raise', 'return', 'try', 'while', 'with', 'yield']\n",
      "\n",
      "Total number of keywords:  35\n"
     ]
    }
   ],
   "source": [
    "# Keywords in Python\n",
    "\n",
    "import keyword\n",
    "print(keyword.kwlist)\n",
    "print(\"\\nTotal number of keywords: \", len(keyword.kwlist))"
   ]
  },
  {
   "cell_type": "code",
   "execution_count": 10,
   "id": "a90d211e-4baa-4956-b67b-5114c42a3de2",
   "metadata": {},
   "outputs": [
    {
     "name": "stdout",
     "output_type": "stream",
     "text": [
      "12\n"
     ]
    }
   ],
   "source": [
    "# Identifiers\n",
    "abc_12 = 12\n",
    "print(abc_12)"
   ]
  },
  {
   "cell_type": "code",
   "execution_count": 3,
   "id": "4e522185-5a96-4388-bc69-320f39f2eb4b",
   "metadata": {},
   "outputs": [
    {
     "name": "stdout",
     "output_type": "stream",
     "text": [
      "Hello World\n"
     ]
    }
   ],
   "source": [
    "# Comments \n",
    "# Prints hello world\n",
    "'''\n",
    "Multi-Line Comment\n",
    "'''\n",
    "print(\"Hello World\")"
   ]
  },
  {
   "cell_type": "code",
   "execution_count": 16,
   "id": "33266577-7bc1-4819-95e4-64b136fbe230",
   "metadata": {},
   "outputs": [
    {
     "name": "stdout",
     "output_type": "stream",
     "text": [
      "0 1 4 9 16 25 36 49 64 81 10\n"
     ]
    }
   ],
   "source": [
    "# for loop\n",
    "for i in range(10):\n",
    "    print(i * i, end = \" \")\n",
    "    \n",
    "print(10)"
   ]
  },
  {
   "cell_type": "code",
   "execution_count": 9,
   "id": "eed3695c-1742-446d-9257-9a0e2b8ccd04",
   "metadata": {},
   "outputs": [
    {
     "name": "stdout",
     "output_type": "stream",
     "text": [
      "10,5.5,xyz\n"
     ]
    }
   ],
   "source": [
    "# Variables\n",
    "a = 10\n",
    "b = 5.5\n",
    "c = \"xyz\"\n",
    "print(a, b, c, sep=\",\")"
   ]
  },
  {
   "cell_type": "code",
   "execution_count": 2,
   "id": "881fd2e1-99c6-4d11-a1a7-7a0a01720276",
   "metadata": {},
   "outputs": [],
   "source": [
    "a,b,c = 10,5.5, \"xyz\"\n",
    "x=y=z=\"AI\""
   ]
  },
  {
   "cell_type": "code",
   "execution_count": 17,
   "id": "04400209-ff81-4527-917d-b0e4b8e2f9b6",
   "metadata": {},
   "outputs": [
    {
     "name": "stdout",
     "output_type": "stream",
     "text": [
      "140724065593848\n",
      "140724065593848\n",
      "140724065593912\n"
     ]
    }
   ],
   "source": [
    "# Print the storage location of a variable\n",
    "a = 3\n",
    "print(id(a))\n",
    "b = 3\n",
    "print(id(b))\n",
    "b = 5\n",
    "print(id(b))"
   ]
  },
  {
   "cell_type": "code",
   "execution_count": 35,
   "id": "ec7667bc-010e-41ae-a06b-130d6d8625f0",
   "metadata": {},
   "outputs": [
    {
     "name": "stdout",
     "output_type": "stream",
     "text": [
      "<class 'int'>\n",
      "<class 'float'>\n",
      "<class 'complex'>\n",
      "<class 'str'>\n",
      "True\n",
      "<class 'bool'>\n"
     ]
    }
   ],
   "source": [
    "# Data-types -> Everything is an object in Python\n",
    "a = 5\n",
    "print(type(a))\n",
    "a = 2.5\n",
    "print(type(a))\n",
    "a = 1 + 2j\n",
    "print(type(a))\n",
    "a = \"xyz\"\n",
    "print(type(a))\n",
    "print(isinstance(a,str))\n",
    "a = True\n",
    "print(type(a))"
   ]
  },
  {
   "cell_type": "code",
   "execution_count": 39,
   "id": "489941a0-c6c0-4058-ad5d-194ddf253516",
   "metadata": {},
   "outputs": [
    {
     "name": "stdout",
     "output_type": "stream",
     "text": [
      "t\n",
      "6\n",
      "<class 'str'>\n"
     ]
    },
    {
     "data": {
      "text/plain": [
       "'ring'"
      ]
     },
     "execution_count": 39,
     "metadata": {},
     "output_type": "execute_result"
    }
   ],
   "source": [
    "#String\n",
    "a = \"string\"\n",
    "print(a[1]) # Accessing characters in a string\n",
    "print(len(a)) # Print length of a string\n",
    "b = \"\"\" This is a multi\n",
    "            line string\"\"\"\n",
    "print(type(b))\n",
    "a[2:] # Slicing in Python"
   ]
  },
  {
   "cell_type": "code",
   "execution_count": 7,
   "id": "41d5fd93-ba67-4231-a136-efd04a2558c5",
   "metadata": {},
   "outputs": [
    {
     "name": "stdout",
     "output_type": "stream",
     "text": [
      "[10, 20.1, 'Hello']\n",
      "20.1\n",
      "[10, 10.1, 'Hello']\n"
     ]
    }
   ],
   "source": [
    "# List - List is like Array in Python\n",
    "# It is an irdered sequence of itrms. All items in the list do not need to be of the same type.\n",
    "# We can modify any element in a list .i.e. list is mitable\n",
    "a = [10, 20.1, \"Hello\"]\n",
    "print(a)\n",
    "print(a[1])\n",
    "a[1] = 10.1\n",
    "print(a)"
   ]
  },
  {
   "cell_type": "code",
   "execution_count": 13,
   "id": "f7e4ee64-114d-4de5-bf54-95111d4deb04",
   "metadata": {},
   "outputs": [
    {
     "name": "stdout",
     "output_type": "stream",
     "text": [
      "(10, 15.1, 'Hello')\n"
     ]
    }
   ],
   "source": [
    "# Tuple -> It is defined using ( bracket. The only difference between list\n",
    "# and tuple is the elements in the tuple are immutable. \n",
    "a=(10,15.1,\"Hello\")\n",
    "print(a)\n",
    "# a[1] = \"Hi\" # This will throw error"
   ]
  },
  {
   "cell_type": "code",
   "execution_count": 19,
   "id": "b9f2fb49-0bd4-4d56-963f-f43674678bc5",
   "metadata": {},
   "outputs": [
    {
     "name": "stdout",
     "output_type": "stream",
     "text": [
      "{40, 10, 20}\n"
     ]
    }
   ],
   "source": [
    "# Set -> It is unordered and you can't access the first elements like this s[1], declared using {}\n",
    "s = {10, 20, 20, 20, 40, 40}\n",
    "print(s)"
   ]
  },
  {
   "cell_type": "code",
   "execution_count": 23,
   "id": "d6d1fedb-5286-4eb7-a344-93b038b8deae",
   "metadata": {},
   "outputs": [
    {
     "name": "stdout",
     "output_type": "stream",
     "text": [
      "apple\n"
     ]
    }
   ],
   "source": [
    "# Dictionaries : {Key : Value}, Equivalent to map in Java.\n",
    "dict = {'a' : 'apple', 'b' : 'ball'}\n",
    "print(dict['a'])"
   ]
  },
  {
   "cell_type": "code",
   "execution_count": 31,
   "id": "d777fb70-5c2a-479d-9ca4-ebbc40ad7dbf",
   "metadata": {},
   "outputs": [
    {
     "name": "stdout",
     "output_type": "stream",
     "text": [
      "5.0\n",
      "100\n",
      "20\n",
      "<class 'list'>\n",
      "<class 'list'>\n",
      "['H', 'e', 'l', 'l', 'o']\n"
     ]
    }
   ],
   "source": [
    "# Conversion between DataTypes\n",
    "print(float(5))\n",
    "print(int(100.5))\n",
    "print(str(20))\n",
    "\n",
    "a = [1,2,3]\n",
    "print(type(a))\n",
    "s = set(a)\n",
    "print(type(a))\n",
    "print(list('Hello'))"
   ]
  },
  {
   "cell_type": "code",
   "execution_count": 38,
   "id": "6f419795-6dbb-4891-a981-98f740488fdb",
   "metadata": {},
   "outputs": [
    {
     "name": "stdout",
     "output_type": "stream",
     "text": [
      "Hello World\n",
      "The value of a is 10\n",
      "The value of a is 10\n"
     ]
    }
   ],
   "source": [
    "# Standard Input & Output\n",
    "a = 10\n",
    "print(\"Hello World\")\n",
    "print(\"The value of a is \" + str(a))\n",
    "print(\"The value of a is\", a)"
   ]
  },
  {
   "cell_type": "code",
   "execution_count": 46,
   "id": "34382754-5bac-41fb-a629-e7299e0df315",
   "metadata": {},
   "outputs": [
    {
     "name": "stdout",
     "output_type": "stream",
     "text": [
      "The value of a is 10 and b is 20\n",
      "The value of b is 20 and a is 10\n",
      "Hello Shashwat, Good Morning!\n",
      "The story of Bill, Alex and Bob\n"
     ]
    }
   ],
   "source": [
    "# Output formatting\n",
    "a = 10; b = 20\n",
    "print(\"The value of a is {} and b is {}\".format(a,b))\n",
    "print(\"The value of b is {1} and a is {0}\".format(a,b))\n",
    "print(\"Hello {name}, {greeting}\".format(name = \"Shashwat\", greeting = \"Good Morning!\"))\n",
    "print(\"The story of {0}, {1} and {other}\".format('Bill','Alex',other='Bob'))"
   ]
  },
  {
   "cell_type": "code",
   "execution_count": 49,
   "id": "79bb3456-3d01-4d84-9980-2a26f5676281",
   "metadata": {},
   "outputs": [
    {
     "name": "stdin",
     "output_type": "stream",
     "text": [
      "Enter a number:  10\n"
     ]
    },
    {
     "name": "stdout",
     "output_type": "stream",
     "text": [
      "Num = 10\n"
     ]
    }
   ],
   "source": [
    "# Input in Python\n",
    "num = input(\"Enter a number: \")\n",
    "print(\"Num = {}\".format(num))"
   ]
  },
  {
   "cell_type": "code",
   "execution_count": 55,
   "id": "343344bc-9bcb-4f8c-bd34-049ed4738b2c",
   "metadata": {},
   "outputs": [
    {
     "name": "stdout",
     "output_type": "stream",
     "text": [
      "30\n",
      "8\n",
      "True\n",
      "False\n",
      "True\n",
      "True\n"
     ]
    }
   ],
   "source": [
    "# Operators (Arithmetic, Compariosn, Logical)\n",
    "x, y = 10, 20\n",
    "print(x + y) # Add, sub, multiply, divide, exponent(**), modulo(%)\n",
    "print(2**3) # Exponent\n",
    "print(x < y)\n",
    "a, b = True, False\n",
    "print(a and b)\n",
    "print(a or b)\n",
    "print(not b)"
   ]
  },
  {
   "cell_type": "code",
   "execution_count": 58,
   "id": "1e87e064-6b7b-482c-a934-496b196aa940",
   "metadata": {},
   "outputs": [
    {
     "name": "stdout",
     "output_type": "stream",
     "text": [
      "0\n",
      "14\n",
      "14\n",
      "160\n",
      "0\n"
     ]
    }
   ],
   "source": [
    "# Bitwise operators\n",
    "a, b = 10, 4\n",
    "print(a & b) # Bitwise AND\n",
    "print(a | b) # Bitwise OR\n",
    "print(a ^ b) # Bitwise XOR\n",
    "print(a << b) # Bitwise rightshift\n",
    "print(a >> b) #Bitwise leftshift"
   ]
  },
  {
   "cell_type": "code",
   "execution_count": 62,
   "id": "9491edb5-46b5-46c9-be7d-a03f20327792",
   "metadata": {},
   "outputs": [
    {
     "name": "stdout",
     "output_type": "stream",
     "text": [
      "True\n",
      "False\n",
      "False\n",
      "True\n"
     ]
    }
   ],
   "source": [
    "# Special operators -> Identity operators (is, is not)\n",
    "# is only true for simple dataTypes if the values are equal. Returns true if they are pointing to the\n",
    "# same memory location.\n",
    "a , b = 5, 5\n",
    "print(a is b)\n",
    "print(a is not b)\n",
    "l1 = [1,2,3]\n",
    "l2 = [1,2,3]\n",
    "print(l1 is l2)\n",
    "s1 = \"String\"\n",
    "s2 = \"String\"\n",
    "print(s1 is s2)"
   ]
  },
  {
   "cell_type": "code",
   "execution_count": 66,
   "id": "78edeb91-25f2-4263-9afb-6a4c922675a4",
   "metadata": {},
   "outputs": [
    {
     "name": "stdout",
     "output_type": "stream",
     "text": [
      "True\n",
      "True\n"
     ]
    }
   ],
   "source": [
    "# Membership operators\n",
    "lst = [1,2,3,4]\n",
    "print(1 in lst)\n",
    "dict = {1 : 'a', 'b' : 2}\n",
    "print('b' in dict)"
   ]
  },
  {
   "cell_type": "code",
   "execution_count": 81,
   "id": "51752ddc-591f-4e9e-ae07-f9cd76f72401",
   "metadata": {},
   "outputs": [
    {
     "name": "stdout",
     "output_type": "stream",
     "text": [
      "Number is positive\n",
      "Negative\n"
     ]
    }
   ],
   "source": [
    "# if...else statement\n",
    "num = 10\n",
    "if num > 0:\n",
    "    print(\"Number is positive\")\n",
    "else:\n",
    "    print(\"Number is not positive\")\n",
    "\n",
    "x = -10\n",
    "if x < 0:\n",
    "    print(\"Negative\")\n",
    "elif x > 0:\n",
    "    print(\"Positive\")\n",
    "else:\n",
    "    print(\"Zero\")\n",
    "\n"
   ]
  },
  {
   "cell_type": "code",
   "execution_count": 91,
   "id": "f85e3ee6-75f3-4443-bd4b-e9dcd647a61e",
   "metadata": {},
   "outputs": [
    {
     "name": "stdout",
     "output_type": "stream",
     "text": [
      "a is 10\n",
      "a is 5\n",
      "a is 2\n",
      "a is 1\n",
      "Product is 240000\n",
      "............................................\n",
      "1\n",
      "2\n",
      "3\n",
      "No item left in the list\n"
     ]
    }
   ],
   "source": [
    "# Control flow - while loop\n",
    "a = 10\n",
    "while (a > 0):\n",
    "    print(\"a is {}\".format(a))\n",
    "    a = (int)(a/2)\n",
    "\n",
    "lst = [10, 20, 30, 40]\n",
    "product = 1\n",
    "index = 0\n",
    "while index < len(lst):\n",
    "    product *= lst[index]\n",
    "    index += 1\n",
    "print(\"Product is {}\".format(product))\n",
    "\n",
    "print(\"............................................\")\n",
    "numbers = [1,2,3]\n",
    "index = 0\n",
    "while index < len(numbers):\n",
    "    print(numbers[index])\n",
    "    index += 1\n",
    "else:\n",
    "    print(\"No item left in the list\")"
   ]
  },
  {
   "cell_type": "code",
   "execution_count": 105,
   "id": "7f13c3a7-aee9-4510-a780-ecbe3f6c5926",
   "metadata": {},
   "outputs": [
    {
     "name": "stdout",
     "output_type": "stream",
     "text": [
      "1 2 3 4 \n",
      "10 20 30 40 \n",
      "2 4 6 8 \n",
      "1 2 3 \n",
      "No item left in the numbers list\n"
     ]
    }
   ],
   "source": [
    "# Control flow - for loop\n",
    "lst = [1,2,3,4]\n",
    "for elem in lst:\n",
    "    print(elem, end = \" \")\n",
    "\n",
    "print()\n",
    "\n",
    "lst = [10,20,30,40]\n",
    "for i in range(0, len(lst)):\n",
    "    print(lst[i], end = \" \")\n",
    "\n",
    "print()\n",
    "\n",
    "# start, end, step_size\n",
    "for i in range(2,10,2):\n",
    "    print(i, end = \" \")\n",
    "\n",
    "print()\n",
    "\n",
    "numbers = [1,2,3]\n",
    "for item in numbers:\n",
    "    print(item, end = \" \")\n",
    "else:\n",
    "    print()\n",
    "    print(\"No item left in the numbers list\")\n"
   ]
  },
  {
   "cell_type": "code",
   "execution_count": 112,
   "id": "6579ba3d-1ee8-4b42-93f8-b00959e437a3",
   "metadata": {},
   "outputs": [
    {
     "name": "stdout",
     "output_type": "stream",
     "text": [
      "Number is 0\n",
      "...............................................\n",
      "Number is 0\n",
      "Number is 2\n"
     ]
    }
   ],
   "source": [
    "# break and continue in loops\n",
    "numbers = [0,-9,-10,2]\n",
    "for num in numbers:\n",
    "    if num < 0:\n",
    "        break\n",
    "    print(\"Number is {}\".format(num))\n",
    "\n",
    "print(\"...............................................\")\n",
    "for num in numbers:\n",
    "    if num < 0:\n",
    "        continue\n",
    "    print(\"Number is {}\".format(num))"
   ]
  },
  {
   "cell_type": "code",
   "execution_count": null,
   "id": "dfec187c-bce8-4e5c-b38e-98486b482318",
   "metadata": {},
   "outputs": [],
   "source": []
  }
 ],
 "metadata": {
  "kernelspec": {
   "display_name": "Python 3 (ipykernel)",
   "language": "python",
   "name": "python3"
  },
  "language_info": {
   "codemirror_mode": {
    "name": "ipython",
    "version": 3
   },
   "file_extension": ".py",
   "mimetype": "text/x-python",
   "name": "python",
   "nbconvert_exporter": "python",
   "pygments_lexer": "ipython3",
   "version": "3.12.9"
  }
 },
 "nbformat": 4,
 "nbformat_minor": 5
}
