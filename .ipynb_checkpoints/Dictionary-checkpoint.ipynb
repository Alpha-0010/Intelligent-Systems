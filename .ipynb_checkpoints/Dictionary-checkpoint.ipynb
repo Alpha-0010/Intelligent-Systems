{
 "cells": [
  {
   "cell_type": "code",
   "execution_count": 7,
   "id": "245e873e-628c-46e2-adb2-094459ece23a",
   "metadata": {},
   "outputs": [
    {
     "name": "stdout",
     "output_type": "stream",
     "text": [
      "{}\n",
      "{1: 'abc', 2: 'xyz'}\n",
      "{1: 'abc', 2: ['xyz', 'def']}\n",
      "{1: 'abc', 2: 'def'}\n"
     ]
    }
   ],
   "source": [
    "# It is an unordered collection of Items. Dictionary is a hashtable in Python. It is non-Indexable.\n",
    "\n",
    "# Dict Creation\n",
    "my_dict = {}\n",
    "print(my_dict)\n",
    "my_dict = {1 : 'abc', 2 : 'xyz'}\n",
    "print(my_dict)\n",
    "\n",
    "# Dictionary with mixed keys\n",
    "my_dict = {1 : 'abc', 2 : ['xyz', 'def']}\n",
    "print(my_dict)\n",
    "\n",
    "# Dictionary creation with list of tuples\n",
    "my_dict = dict([(1, 'abc'), (2, 'def')])\n",
    "print(my_dict)"
   ]
  },
  {
   "cell_type": "code",
   "execution_count": 11,
   "id": "8f33a673-3fc5-4562-89b1-4f5245470668",
   "metadata": {},
   "outputs": [
    {
     "name": "stdout",
     "output_type": "stream",
     "text": [
      "Alex\n",
      "27\n",
      "None\n"
     ]
    }
   ],
   "source": [
    "# Dict access\n",
    "my_dict = {'name' : 'Alex', 'age': 27}\n",
    "print(my_dict['name']) # If key is not present it will throw keyError\n",
    "print(my_dict.get('age'))\n",
    "print(my_dict.get('address')) # This will not throw error if the key doesnot exist"
   ]
  },
  {
   "cell_type": "code",
   "execution_count": 15,
   "id": "318088eb-5bd7-4644-b146-188adaf7bb91",
   "metadata": {},
   "outputs": [
    {
     "name": "stdout",
     "output_type": "stream",
     "text": [
      "{'name': 'Alicia', 'age': 27}\n",
      "{'name': 'Alicia', 'age': 27, 'address': 'California'}\n"
     ]
    }
   ],
   "source": [
    "# Add or modify elements in Dict\n",
    "my_dict = {'name' : 'Alex', 'age': 27}\n",
    "my_dict['name'] = 'Alicia'\n",
    "print(my_dict)\n",
    "\n",
    "# Add a new key to the dict\n",
    "my_dict['address'] = 'California'\n",
    "print(my_dict)"
   ]
  },
  {
   "cell_type": "code",
   "execution_count": 20,
   "id": "cabfdf8b-85f2-48ac-b8ac-842e3f4d2832",
   "metadata": {},
   "outputs": [
    {
     "name": "stdout",
     "output_type": "stream",
     "text": [
      "27\n",
      "{'name': 'Alex'}\n",
      "0\n"
     ]
    }
   ],
   "source": [
    "# Dict delete or remove element\n",
    "my_dict = {'name' : 'Alex', 'age': 27}\n",
    "print(my_dict.pop('age'))\n",
    "print(my_dict)\n",
    "\n",
    "# my_dict.popitem() # This will remove any arbitary (key,value) from the dict\n",
    "\n",
    "# del my_dict['name'] # Delte a particular (key,value) from dict\n",
    "\n",
    "# del my_dict --> Delete the whole dictionary\n",
    "my_dict.clear() # Clear the elements in the dictionary\n",
    "print(len(my_dict))"
   ]
  },
  {
   "cell_type": "code",
   "execution_count": 27,
   "id": "ef7d7489-6d36-420c-b127-af1e1db4f55a",
   "metadata": {},
   "outputs": [
    {
     "name": "stdout",
     "output_type": "stream",
     "text": [
      "{2: 4, 3: 9, 4: 16, 5: 25}\n",
      "dict_items([(2, 4), (3, 9), (4, 16), (5, 25)])\n",
      "dict_keys([2, 3, 4, 5])\n",
      "dict_values([4, 9, 16, 25])\n",
      "['__class__', '__class_getitem__', '__contains__', '__delattr__', '__delitem__', '__dir__', '__doc__', '__eq__', '__format__', '__ge__', '__getattribute__', '__getitem__', '__getstate__', '__gt__', '__hash__', '__init__', '__init_subclass__', '__ior__', '__iter__', '__le__', '__len__', '__lt__', '__ne__', '__new__', '__or__', '__reduce__', '__reduce_ex__', '__repr__', '__reversed__', '__ror__', '__setattr__', '__setitem__', '__sizeof__', '__str__', '__subclasshook__', 'clear', 'copy', 'fromkeys', 'get', 'items', 'keys', 'pop', 'popitem', 'setdefault', 'update', 'values']\n"
     ]
    }
   ],
   "source": [
    "# Dictionary Methods\n",
    "squares = {2 : 4, 3 : 9, 4 : 16, 5 : 25}\n",
    "my_dict = squares.copy()\n",
    "print(my_dict)\n",
    "\n",
    "\n",
    "print(my_dict.items()) # Returns a list of tuples (key, value)\n",
    "print(my_dict.keys()) # Return the list of keys in the dictionary\n",
    "print(my_dict.values()) # Returns the list of values in the dictionary\n",
    "\n",
    "d = {}\n",
    "print(dir(d))"
   ]
  },
  {
   "cell_type": "code",
   "execution_count": 35,
   "id": "c9a1700e-b325-4304-8c3b-68731dc96def",
   "metadata": {},
   "outputs": [
    {
     "name": "stdout",
     "output_type": "stream",
     "text": [
      "('a', 1) ('b', 2) ('c', 3) \n",
      "{'c': 9}\n"
     ]
    }
   ],
   "source": [
    "# Dictionary comprehension\n",
    "d = {'a' : 1, 'b' : 2, 'c' : 3}\n",
    "for pair in d.items():\n",
    "    print(pair, end = \" \")\n",
    "\n",
    "print()\n",
    "# Create a new dictionary with only pairs where the value > 2 and the value of the new dictionary is power of 2 of the current value\n",
    "new_dict = {k : v ** 2 for k, v in d.items() if v > 2}\n",
    "print(new_dict)\n",
    "\n"
   ]
  },
  {
   "cell_type": "code",
   "execution_count": null,
   "id": "53a2188f-09ba-4d69-b331-bd2ad7f75ab9",
   "metadata": {},
   "outputs": [],
   "source": []
  }
 ],
 "metadata": {
  "kernelspec": {
   "display_name": "Python 3 (ipykernel)",
   "language": "python",
   "name": "python3"
  },
  "language_info": {
   "codemirror_mode": {
    "name": "ipython",
    "version": 3
   },
   "file_extension": ".py",
   "mimetype": "text/x-python",
   "name": "python",
   "nbconvert_exporter": "python",
   "pygments_lexer": "ipython3",
   "version": "3.12.10"
  }
 },
 "nbformat": 4,
 "nbformat_minor": 5
}
