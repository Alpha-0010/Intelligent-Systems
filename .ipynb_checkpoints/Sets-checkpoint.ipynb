{
 "cells": [
  {
   "cell_type": "code",
   "execution_count": 8,
   "id": "0098aa1c-d360-44a6-a6ae-ca1ff8d18e12",
   "metadata": {},
   "outputs": [
    {
     "name": "stdout",
     "output_type": "stream",
     "text": [
      "<class 'set'>\n",
      "{1, 2, 3, 4}\n",
      "{1, 2, 3}\n",
      "<class 'set'>\n"
     ]
    }
   ],
   "source": [
    "# Set is an unordered collection of items, every element is unique(no duplicates)\n",
    "# Set is mutable and we can add or remove elements.\n",
    "# We cannot use Indexing on a set\n",
    "\n",
    "# Set creation\n",
    "s = {1,2,3}\n",
    "print(type(s))\n",
    "\n",
    "s = {1,2,3,1,3,4}\n",
    "print(s)\n",
    "\n",
    "s = set([1,2,3,1])\n",
    "print(s)\n",
    "\n",
    "s = set()\n",
    "print(type(s))"
   ]
  },
  {
   "cell_type": "code",
   "execution_count": 15,
   "id": "fcb11faa-2123-46bf-a5f0-a9eb9162bfd0",
   "metadata": {},
   "outputs": [
    {
     "name": "stdout",
     "output_type": "stream",
     "text": [
      "{2}\n",
      "{2, 5, 6}\n",
      "{2, 3, 5, 6, 8, 9, 10}\n",
      "{3, 5, 6, 8, 9, 10}\n",
      "{3, 5, 8, 9, 10}\n"
     ]
    }
   ],
   "source": [
    "s = set()\n",
    "# Add a single element\n",
    "s.add(2)\n",
    "print(s)\n",
    "\n",
    "# Add multiple elements\n",
    "s.update([5,6,2])\n",
    "print(s)\n",
    "\n",
    "#Add list and set\n",
    "s.update([8,9],{10,2,3})\n",
    "print(s)\n",
    "\n",
    "# Remove element from set\n",
    "s.discard(2) # If the element is not present in the set it wlll not throw an error\n",
    "print(s)\n",
    "s.remove(6) # If the element is not present it will throw a key error\n",
    "print(s)"
   ]
  },
  {
   "cell_type": "code",
   "execution_count": 21,
   "id": "245308ce-7ed0-42b0-a460-e22435423ced",
   "metadata": {},
   "outputs": [
    {
     "name": "stdout",
     "output_type": "stream",
     "text": [
      "{2, 3, 4, 5}\n",
      "set()\n"
     ]
    }
   ],
   "source": [
    "s = {1, 2, 3, 4, 5}\n",
    "s.pop() # Removes 1 element from set randomly\n",
    "print(s)\n",
    "s.clear() # Deletes all the elements from a set\n",
    "print(s)"
   ]
  },
  {
   "cell_type": "code",
   "execution_count": 28,
   "id": "467276f4-445e-4556-afda-173afe53809c",
   "metadata": {},
   "outputs": [
    {
     "name": "stdout",
     "output_type": "stream",
     "text": [
      "{1, 2, 3, 4, 5, 6, 7}\n",
      "{3, 4, 5}\n",
      "{1, 2}\n",
      "{1, 2, 6, 7}\n",
      "False\n"
     ]
    }
   ],
   "source": [
    "set1 = {1, 2, 3, 4, 5}\n",
    "set2 = {3, 4, 5, 6, 7}\n",
    "\n",
    "# Union, Intersection, difference, symmetric_difference and issubset of sets\n",
    "print(set1.union(set2)) \n",
    "print(set1.intersection(set2))\n",
    "print(set1.difference(set2)) # set1 - set2\n",
    "print(set1.symmetric_difference(set2)) # (set1 union set2) - (set1 intersection set2)\n",
    "print(set1.issubset(set2))\n"
   ]
  },
  {
   "cell_type": "code",
   "execution_count": 32,
   "id": "84c9f4c4-0da2-4788-a628-8989e99c5908",
   "metadata": {},
   "outputs": [
    {
     "name": "stdout",
     "output_type": "stream",
     "text": [
      "frozenset({1, 2, 3, 4})\n"
     ]
    }
   ],
   "source": [
    "# Frozen Sets\n",
    "# Sets but we can not change once assigned, it is immutable.\n",
    "# We can do all the operations of a normal set but except the operations that can alter the elements in the set\n",
    "set1 = frozenset([1,2,3,4])\n",
    "set2 = frozenset([4.5,6,7])\n",
    "print(set1)\n",
    "#set1.add(2) # This will throw error since frozenSets are Immutable"
   ]
  },
  {
   "cell_type": "code",
   "execution_count": null,
   "id": "9b499c91-79cf-4bcc-9379-e26da28d7ff0",
   "metadata": {},
   "outputs": [],
   "source": []
  }
 ],
 "metadata": {
  "kernelspec": {
   "display_name": "Python 3 (ipykernel)",
   "language": "python",
   "name": "python3"
  },
  "language_info": {
   "codemirror_mode": {
    "name": "ipython",
    "version": 3
   },
   "file_extension": ".py",
   "mimetype": "text/x-python",
   "name": "python",
   "nbconvert_exporter": "python",
   "pygments_lexer": "ipython3",
   "version": "3.12.10"
  }
 },
 "nbformat": 4,
 "nbformat_minor": 5
}
