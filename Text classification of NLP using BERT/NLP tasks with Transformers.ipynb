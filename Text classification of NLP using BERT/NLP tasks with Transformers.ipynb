{
 "cells": [
  {
   "cell_type": "markdown",
   "id": "0625b9a9-6a05-425e-82eb-322225742822",
   "metadata": {},
   "source": [
    "BERT and GPT3 are LLMs based on Transformers -> Transformers can be used to perform some of the NLP tasks\n",
    "\n",
    "NLP use cases\n",
    "- Classifying whole sentences\n",
    "- Classifying each word in a sentence (Named Entity Recognition)\n",
    "- Answering a question given a context\n",
    "- Text summarization\n",
    "- Fill in the blanks\n",
    "- Translating from one language to another"
   ]
  },
  {
   "cell_type": "code",
   "execution_count": 4,
   "id": "79038cbd-78fa-419d-bef1-38da81ac0bfb",
   "metadata": {},
   "outputs": [],
   "source": [
    "%%capture\n",
    "!pip install transformers[sentencepiece]"
   ]
  },
  {
   "cell_type": "code",
   "execution_count": null,
   "id": "2b1116f0-fd67-4dd7-b670-982a61c04ba5",
   "metadata": {},
   "outputs": [],
   "source": [
    "import os\n",
    "os.environ[\"HF_HUB_DOWNLOAD_TIMEOUT\"] = \"600\" \n",
    "%%capture\n",
    "!pip install tensorflow\n",
    "!pip install transformers\n",
    "!pip install torch\n",
    "!pip install tensorflow-cpu\n",
    "!pip install hf_xet"
   ]
  },
  {
   "cell_type": "code",
   "execution_count": 5,
   "id": "6996260d-f070-443e-af88-4ba40c149a27",
   "metadata": {},
   "outputs": [],
   "source": [
    "from transformers import pipeline\n",
    "import textwrap\n",
    "wrapper = textwrap.TextWrapper(width=80, break_long_words=False, break_on_hyphens=False)"
   ]
  },
  {
   "cell_type": "code",
   "execution_count": 21,
   "id": "8b3a5a37-0034-47de-b88b-37b880bb9891",
   "metadata": {},
   "outputs": [
    {
     "name": "stderr",
     "output_type": "stream",
     "text": [
      "Device set to use cpu\n"
     ]
    },
    {
     "name": "stdout",
     "output_type": "stream",
     "text": [
      "\n",
      "Sentence:\n",
      "The flights were on time both in Sydney and the connecting flight in Singapore.\n",
      "The organisation to cope with the COVID 19 restrictions while in transit was\n",
      "well planned and directions easy to follow, the plane was comfortable with a\n",
      "reasonable selection of in flight entertainment. Crew were pleasant and helpful.\n",
      "\n",
      "This sentence is classified with a POSITIVE sentiment\n"
     ]
    }
   ],
   "source": [
    "# Classifying whole sentences --> The model needs to determine if the sentiment of the review is positive or negative.\n",
    "sentence = 'The flights were on time both in Sydney and the connecting flight in Singapore. The organisation to cope with the COVID 19 restrictions while in transit was well planned and directions easy to follow, the plane was comfortable with a reasonable selection of in flight entertainment. Crew were pleasant and helpful.'\n",
    "classifier = pipeline('text-classification', model='distilbert-base-uncased-finetuned-sst-2-english')\n",
    "c = classifier(sentence)\n",
    "print('\\nSentence:')\n",
    "print(wrapper.fill(sentence))\n",
    "print(f\"\\nThis sentence is classified with a {c[0]['label']} sentiment\")"
   ]
  },
  {
   "cell_type": "code",
   "execution_count": 22,
   "id": "3eb7bc23-bb72-4753-85fe-ce9914809d6b",
   "metadata": {},
   "outputs": [
    {
     "name": "stderr",
     "output_type": "stream",
     "text": [
      "Some weights of the model checkpoint at dbmdz/bert-large-cased-finetuned-conll03-english were not used when initializing BertForTokenClassification: ['bert.pooler.dense.bias', 'bert.pooler.dense.weight']\n",
      "- This IS expected if you are initializing BertForTokenClassification from the checkpoint of a model trained on another task or with another architecture (e.g. initializing a BertForSequenceClassification model from a BertForPreTraining model).\n",
      "- This IS NOT expected if you are initializing BertForTokenClassification from the checkpoint of a model that you expect to be exactly identical (initializing a BertForSequenceClassification model from a BertForSequenceClassification model).\n",
      "Device set to use cpu\n"
     ]
    },
    {
     "name": "stdout",
     "output_type": "stream",
     "text": [
      "\n",
      "Sentence:\n",
      "Singapore Airlines was the first airline to fly the A380. Chew Choon Seng was\n",
      "Singapore Airline's CEO at the time. Singapore Airlines flies to New York daily.\n",
      "\n",
      "\n",
      "Singapore Airlines -> ORG\n",
      "A380 -> MISC\n",
      "Chew Choon Seng -> PER\n",
      "Singapore Airline -> ORG\n",
      "Singapore Airlines -> ORG\n",
      "New York -> LOC\n"
     ]
    }
   ],
   "source": [
    "# Classifying each word in a sentence (Named Entity Recognition)\n",
    "sentence = \"Singapore Airlines was the first airline to fly the A380. Chew Choon Seng was Singapore Airline's CEO at the time. Singapore Airlines flies to New York daily.\"\n",
    "ner = pipeline('token-classification', model='dbmdz/bert-large-cased-finetuned-conll03-english', grouped_entities=True)\n",
    "ners = ner(sentence)\n",
    "print('\\nSentence:')\n",
    "print(wrapper.fill(sentence))\n",
    "print('\\n')\n",
    "for n in ners:\n",
    "  print(f\"{n['word']} -> {n['entity_group']}\")"
   ]
  },
  {
   "cell_type": "code",
   "execution_count": 23,
   "id": "61eb51c9-f967-4370-a217-e56ba5bd8674",
   "metadata": {},
   "outputs": [
    {
     "name": "stdout",
     "output_type": "stream",
     "text": [
      "Text:\n",
      " Singapore Airlines was founded in 1947 and was originally known as Malayan\n",
      "Airways. It is the national airline of Singapore and is based at Singapore\n",
      "Changi Airport.  From this hub, the airline flies to more than 60 destinations,\n",
      "with flights to Seoul, Tokyo and Melbourne among the most popular of its routes.\n",
      "It is particularly strong in Southeast Asian and Australian destinations (the\n",
      "so-called Kangaroo Route), but also flies to 6 different continents, covering 35\n",
      "countries. There are more than 100 planes in the Singapore Airlines fleet, most\n",
      "of which are Airbus aircraft plus a smaller amount of Boeings. The company is\n",
      "known for frequently updating the aircraft in its fleet.\n",
      "\n",
      "Question:\n",
      "How many aircrafts does Singapore Airlines have?\n"
     ]
    }
   ],
   "source": [
    "# Answering a question given a context\n",
    "\n",
    "context = '''\n",
    "Singapore Airlines was founded in 1947 and was originally known as Malayan Airways. It is the national airline of Singapore and is based at Singapore Changi Airport. \n",
    "From this hub, the airline flies to more than 60 destinations, with flights to Seoul, Tokyo and Melbourne among the most popular of its routes. \n",
    "It is particularly strong in Southeast Asian and Australian destinations (the so-called Kangaroo Route), but also flies to 6 different continents, covering 35 countries.\n",
    "There are more than 100 planes in the Singapore Airlines fleet, most of which are Airbus aircraft plus a smaller amount of Boeings.\n",
    "The company is known for frequently updating the aircraft in its fleet.'''\n",
    "\n",
    "\n",
    "question = 'How many aircrafts does Singapore Airlines have?'\n",
    "\n",
    "print('Text:')\n",
    "print(wrapper.fill(context))\n",
    "print('\\nQuestion:')\n",
    "print(question)"
   ]
  },
  {
   "cell_type": "code",
   "execution_count": 24,
   "id": "2d16d357-4655-4a32-a883-7fddc83ac4d7",
   "metadata": {},
   "outputs": [
    {
     "name": "stderr",
     "output_type": "stream",
     "text": [
      "Device set to use cpu\n"
     ]
    },
    {
     "name": "stdout",
     "output_type": "stream",
     "text": [
      "\n",
      "Question:\n",
      "How many aircrafts does Singapore Airlines have?\n",
      "\n",
      "Answer:\n"
     ]
    },
    {
     "data": {
      "text/plain": [
       "'more than 100'"
      ]
     },
     "execution_count": 24,
     "metadata": {},
     "output_type": "execute_result"
    }
   ],
   "source": [
    "# Q: How many aircrafts does Singapore Airlines have?\n",
    "\n",
    "from transformers import pipeline\n",
    "\n",
    "qa = pipeline('question-answering', model='distilbert-base-cased-distilled-squad')\n",
    "\n",
    "print('\\nQuestion:')\n",
    "print(question + '\\n')\n",
    "print('Answer:')\n",
    "a = qa(context=context, question=question)\n",
    "a['answer']"
   ]
  },
  {
   "cell_type": "code",
   "execution_count": 28,
   "id": "a71a7bed-fceb-45b3-bf2a-569643472380",
   "metadata": {},
   "outputs": [
    {
     "name": "stdout",
     "output_type": "stream",
     "text": [
      "\n",
      "Original text:\n",
      "\n",
      " Extremely unusual time to fly as we needed an exemption to fly out of Australia\n",
      "from the government. We obtained one as working in Tokyo for the year as\n",
      "teachers. The check in procedure does take a lot longer as more paperwork and\n",
      "phone calls are needed to check if you are allowed to travel. The staff were\n",
      "excellent in explaining the procedure as they are working with very few numbers.\n",
      "The flight had 40 people only, so lots of room and yes we had 3 seats each. The\n",
      "service of meals and beverages was done very quickly and efficiently. Changi\n",
      "airport was like a ghost town with most shops closed and all passengers are\n",
      "walked/transported to a transit zone until your next flight is ready. You are\n",
      "then walked in single file or transported to your next flight, so very strange\n",
      "as at times their seemed be more workers in PPE gear than passengers. The steps\n",
      "we went through at Narita were extensive, downloading apps, fill in paperwork\n",
      "and giving a saliva sample to test for covid 19.  It took about 2 hours to get\n",
      "through the steps and we only sat down for maybe 10 minutes at the last stop to\n",
      "get back your covid results.  The people involved were fantastic and we were\n",
      "lucky that we were numbers two and three in the initial first line up, but still\n",
      "over 2 hours it took so be aware. We knew we were quick as the people picking us\n",
      "up told us we were first out.\n"
     ]
    },
    {
     "name": "stderr",
     "output_type": "stream",
     "text": [
      "Device set to use cpu\n"
     ]
    },
    {
     "name": "stdout",
     "output_type": "stream",
     "text": [
      "\n",
      "Summarized text:\n",
      " The flight had 40 people only, so lots of room and yes we had 3 seats each .\n",
      "The check in procedure does take a lot longer as more paperwork and phone calls\n",
      "are needed to check if you are allowed to travel . The staff were excellent in\n",
      "explaining the procedure as they are working with very few numbers .\n"
     ]
    }
   ],
   "source": [
    "# Text Summarization\n",
    "\n",
    "review = '''\n",
    "Extremely unusual time to fly as we needed an exemption to fly out of Australia from the government. We obtained one as working in Tokyo for the year as teachers.\n",
    "The check in procedure does take a lot longer as more paperwork and phone calls are needed to check if you are allowed to travel. The staff were excellent in explaining the procedure as they are working with very few numbers.\n",
    "The flight had 40 people only, so lots of room and yes we had 3 seats each. The service of meals and beverages was done very quickly and efficiently.\n",
    "Changi airport was like a ghost town with most shops closed and all passengers are walked/transported to a transit zone until your next flight is ready. You are then walked in single file or transported to your next flight, so very strange as at times their seemed be more workers in PPE gear than passengers.\n",
    "The steps we went through at Narita were extensive, downloading apps, fill in paperwork and giving a saliva sample to test for covid 19. \n",
    "It took about 2 hours to get through the steps and we only sat down for maybe 10 minutes at the last stop to get back your covid results. \n",
    "The people involved were fantastic and we were lucky that we were numbers two and three in the initial first line up, but still over 2 hours it took so be aware. We knew we were quick as the people picking us up told us we were first out.'''\n",
    "\n",
    "print('\\nOriginal text:\\n')\n",
    "print(wrapper.fill(review))\n",
    "summarize = pipeline('summarization', model='sshleifer/distilbart-cnn-12-6')\n",
    "summarized_text = summarize(review)[0]['summary_text']\n",
    "print('\\nSummarized text:')\n",
    "print(wrapper.fill(summarized_text))"
   ]
  },
  {
   "cell_type": "code",
   "execution_count": 29,
   "id": "95cb2727-5f3b-4047-88ec-e43ed19e9ae8",
   "metadata": {},
   "outputs": [
    {
     "name": "stderr",
     "output_type": "stream",
     "text": [
      "Some weights of the model checkpoint at distilroberta-base were not used when initializing RobertaForMaskedLM: ['roberta.pooler.dense.bias', 'roberta.pooler.dense.weight']\n",
      "- This IS expected if you are initializing RobertaForMaskedLM from the checkpoint of a model trained on another task or with another architecture (e.g. initializing a BertForSequenceClassification model from a BertForPreTraining model).\n",
      "- This IS NOT expected if you are initializing RobertaForMaskedLM from the checkpoint of a model that you expect to be exactly identical (initializing a BertForSequenceClassification model from a BertForSequenceClassification model).\n",
      "Device set to use cpu\n"
     ]
    },
    {
     "name": "stdout",
     "output_type": "stream",
     "text": [
      "It is the national anthem of Singapore\n",
      "It is the national capital of Singapore\n",
      "It is the national pride of Singapore\n",
      "It is the national treasure of Singapore\n",
      "It is the national motto of Singapore\n"
     ]
    }
   ],
   "source": [
    "# Fill in the blanks\n",
    "\n",
    "sentence = 'It is the national <mask> of Singapore'\n",
    "mask = pipeline('fill-mask', model='distilroberta-base')\n",
    "masks = mask(sentence)\n",
    "for m in masks:\n",
    "  print(m['sequence'])"
   ]
  },
  {
   "cell_type": "code",
   "execution_count": 30,
   "id": "59234ec6-615c-4e3d-bb38-cbd7ed4f6b87",
   "metadata": {},
   "outputs": [
    {
     "name": "stderr",
     "output_type": "stream",
     "text": [
      "Some weights of the model checkpoint at distilroberta-base were not used when initializing RobertaForMaskedLM: ['roberta.pooler.dense.bias', 'roberta.pooler.dense.weight']\n",
      "- This IS expected if you are initializing RobertaForMaskedLM from the checkpoint of a model trained on another task or with another architecture (e.g. initializing a BertForSequenceClassification model from a BertForPreTraining model).\n",
      "- This IS NOT expected if you are initializing RobertaForMaskedLM from the checkpoint of a model that you expect to be exactly identical (initializing a BertForSequenceClassification model from a BertForSequenceClassification model).\n",
      "Device set to use cpu\n"
     ]
    },
    {
     "name": "stdout",
     "output_type": "stream",
     "text": [
      "Singapore Airlines is the national airline of Singapore\n",
      "Singapore Airlines is the national carrier of Singapore\n",
      "Singapore Airlines is the national airport of Singapore\n",
      "Singapore Airlines is the national airlines of Singapore\n",
      "Singapore Airlines is the national capital of Singapore\n"
     ]
    }
   ],
   "source": [
    "sentence = 'Singapore Airlines is the national <mask> of Singapore'\n",
    "mask = pipeline('fill-mask', model='distilroberta-base')\n",
    "masks = mask(sentence)\n",
    "for m in masks:\n",
    "  print(m['sequence'])"
   ]
  },
  {
   "cell_type": "code",
   "execution_count": 31,
   "id": "a64f63a1-ca07-4d67-81b7-4eb5c6d06a28",
   "metadata": {},
   "outputs": [
    {
     "name": "stderr",
     "output_type": "stream",
     "text": [
      "Device set to use cpu\n"
     ]
    },
    {
     "name": "stdout",
     "output_type": "stream",
     "text": [
      "\n",
      "English:\n",
      "Singapore Airlines is my favourite airline\n",
      "\n",
      "German:\n",
      "Singapore Airlines ist meine Lieblingsfluggesellschaft\n"
     ]
    }
   ],
   "source": [
    "# Translation English to German\n",
    "\n",
    "english = '''Singapore Airlines is my favourite airline'''\n",
    "\n",
    "translator = pipeline('translation_en_to_de', model='t5-base')\n",
    "german = translator(english)\n",
    "print('\\nEnglish:')\n",
    "print(english)\n",
    "print('\\nGerman:')\n",
    "print(german[0]['translation_text'])"
   ]
  },
  {
   "cell_type": "code",
   "execution_count": null,
   "id": "010805b0-fd4d-4ebe-b8c5-6bb201c019ea",
   "metadata": {},
   "outputs": [],
   "source": []
  }
 ],
 "metadata": {
  "kernelspec": {
   "display_name": "Python 3 (ipykernel)",
   "language": "python",
   "name": "python3"
  },
  "language_info": {
   "codemirror_mode": {
    "name": "ipython",
    "version": 3
   },
   "file_extension": ".py",
   "mimetype": "text/x-python",
   "name": "python",
   "nbconvert_exporter": "python",
   "pygments_lexer": "ipython3",
   "version": "3.12.10"
  }
 },
 "nbformat": 4,
 "nbformat_minor": 5
}
