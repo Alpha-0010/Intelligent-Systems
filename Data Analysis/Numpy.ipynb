{
 "cells": [
  {
   "cell_type": "code",
   "execution_count": 31,
   "id": "556fe5d9-9e73-407c-a180-ce655d329df3",
   "metadata": {},
   "outputs": [],
   "source": [
    "# Numpy has high-level number objects: integers, floating point\n",
    "# It has containers: lists(costless insertion and append), dictionaries(fast lookup)\n",
    "\n",
    "# Numpy prvides :-\n",
    "# 1. Entension package to python for multi-dimensional arrays.\n",
    "# 2. Closer to hardware(efficiency)\n",
    "# 3. Designed for scientific computation(convinience).\n",
    "# 4. Also known as array oriented computing.\n",
    "\n",
    "# Creating a numpy array takes less time than creating a list in Python.\n",
    "\n",
    "# 1-D Array is called a Vector.\n",
    "# 2-D Array is called a Matrix.\n",
    "# n-D Array is called a Tensor.\n",
    "                              "
   ]
  },
  {
   "cell_type": "code",
   "execution_count": 32,
   "id": "0ca18d73-3a6e-4fe5-9852-0ae4ef2a8bc1",
   "metadata": {},
   "outputs": [
    {
     "name": "stdout",
     "output_type": "stream",
     "text": [
      "[0 1 2 3]\n",
      "[0 1 2 3 4 5 6 7 8 9]\n"
     ]
    }
   ],
   "source": [
    "import numpy as np\n",
    "a = np.array([0, 1, 2, 3])\n",
    "print(a)\n",
    "\n",
    "# Create a numpy array 0 -> 9\n",
    "print(np.arange(10)) "
   ]
  },
  {
   "cell_type": "code",
   "execution_count": 33,
   "id": "54b3b56c-f3a0-4b5f-9994-7a221952303a",
   "metadata": {},
   "outputs": [
    {
     "name": "stdout",
     "output_type": "stream",
     "text": [
      "2\n",
      "(2, 4)\n",
      "2\n"
     ]
    }
   ],
   "source": [
    "# Manual contruction of array\n",
    "\n",
    "a = np.array([[0, 1, 2, 3], [4, 5, 6, 7]])\n",
    "print(a.ndim) # 2-dimention array\n",
    "print(a.shape) # rows * cols\n",
    "print(len(a)) # returns the size of the first dimension(rows in this case)"
   ]
  },
  {
   "cell_type": "code",
   "execution_count": 34,
   "id": "8d5c6092-3202-48d2-b0d7-d9202f542709",
   "metadata": {},
   "outputs": [
    {
     "name": "stdout",
     "output_type": "stream",
     "text": [
      "[[[1 2]\n",
      "  [3 4]]\n",
      "\n",
      " [[5 6]\n",
      "  [7 8]]]\n",
      "3\n",
      "(2, 2, 2)\n",
      "2\n"
     ]
    }
   ],
   "source": [
    "# 3-dimensional array --> Very difficult to visualize --> A 3-dimensional array is basically a cuboid.\n",
    "b = np.array([[[1, 2], [3, 4]],[[5, 6],[7, 8]]])\n",
    "print(b)\n",
    "print(b.ndim)\n",
    "print(b.shape)\n",
    "print(len(b))"
   ]
  },
  {
   "cell_type": "code",
   "execution_count": 49,
   "id": "207182e9-204c-447a-9822-91b876396180",
   "metadata": {},
   "outputs": [
    {
     "name": "stdout",
     "output_type": "stream",
     "text": [
      "[1 3 5 7 9]\n",
      "[0.  0.2 0.4 0.6 0.8 1. ]\n",
      "[[1. 1. 1.]\n",
      " [1. 1. 1.]\n",
      " [1. 1. 1.]]\n",
      "[[0. 0. 0.]\n",
      " [0. 0. 0.]\n",
      " [0. 0. 0.]]\n",
      "[[1. 0. 0.]\n",
      " [0. 1. 0.]\n",
      " [0. 0. 1.]]\n",
      "[[1 0 0 0]\n",
      " [0 2 0 0]\n",
      " [0 0 3 0]\n",
      " [0 0 0 4]]\n",
      "[1 2 3 4]\n",
      "[0.13044941 0.21804204 0.80415981 0.8950369 ]\n"
     ]
    }
   ],
   "source": [
    "# Functions for creating arrays\n",
    "\n",
    "# Using arange\n",
    "a = np.arange(1, 10, 2) #  start, end(exclusive), step_size\n",
    "print(a)\n",
    "\n",
    "# Using linspace --> Dividing a line into the number of points passed into the method\n",
    "b = np.linspace(0, 1, 6) # start, end(exclusive), num_of_points\n",
    "print(b)\n",
    "\n",
    "# Common arrays\n",
    "c = np.ones((3, 3))\n",
    "print(c)\n",
    "\n",
    "d = np.zeros((3, 3))\n",
    "print(d)\n",
    "\n",
    "# Return an identity matrix [Diagonal elements are 1 and non-diagonal elements are 0]\n",
    "e = np.eye(3, 3)\n",
    "print(e)\n",
    "\n",
    "# Create array using diag function\n",
    "#  The elements passed to this method are in the diagonals and rest of the elems in the matrix are 0.\n",
    "f = np.diag([1, 2, 3, 4])\n",
    "print(f)\n",
    "\n",
    "# Extract Diagonals\n",
    "print(np.diag(f))\n",
    "\n",
    "# Create array using random\n",
    "g = np.random.rand(4)\n",
    "print(g)"
   ]
  },
  {
   "cell_type": "code",
   "execution_count": 58,
   "id": "70eb6eff-67bc-40ea-b706-5c437598bf40",
   "metadata": {},
   "outputs": [
    {
     "name": "stdout",
     "output_type": "stream",
     "text": [
      "int64\n",
      "[0. 1. 2. 3. 4. 5. 6. 7. 8. 9.]\n",
      "complex128\n",
      "bool\n"
     ]
    }
   ],
   "source": [
    "# Basic datatypes\n",
    "\n",
    "a = np.arange(10)\n",
    "print(a.dtype)\n",
    "\n",
    "# Create a floating point dtype array\n",
    "b = np.arange(10, dtype='float64')\n",
    "print(b)\n",
    "\n",
    "# Complex datatype\n",
    "c = np.array([1 + 2j, 2 + 4j])\n",
    "print(c.dtype)\n",
    "\n",
    "# Boolean datatype\n",
    "d = np.array([True, False])\n",
    "print(d.dtype)"
   ]
  },
  {
   "cell_type": "code",
   "execution_count": 68,
   "id": "6a65d55c-9694-45bc-88a0-6e5d7f2087c5",
   "metadata": {},
   "outputs": [
    {
     "name": "stdout",
     "output_type": "stream",
     "text": [
      "3\n",
      "5\n",
      "[0 5 3]\n"
     ]
    }
   ],
   "source": [
    "# Indexing and Slicing\n",
    "\n",
    "# Indexing\n",
    "a = np.diag([1, 2, 3])\n",
    "print(a[2][2])\n",
    "\n",
    "# Assigning Value\n",
    "a[2][1] = 5\n",
    "print(a[2][1])\n",
    "\n",
    "# Slicing :- a[start: end(exclusive): step_size]\n",
    "print(a[0:3:2][1])\n"
   ]
  },
  {
   "cell_type": "code",
   "execution_count": 76,
   "id": "b1354704-d834-48af-b0e4-db1adfb337d6",
   "metadata": {},
   "outputs": [
    {
     "name": "stdout",
     "output_type": "stream",
     "text": [
      "[11 11 19  9  8  5  7  9  6 11  4 19  2 17  3]\n",
      "[8 6 4 2]\n"
     ]
    }
   ],
   "source": [
    "# Filtering in numpy using mask\n",
    "\n",
    "# Get only the elements which are even\n",
    "a = np.random.randint(0, 20, 15)\n",
    "print(a)\n",
    "mask = a % 2 == 0\n",
    "\n",
    "extract_from_a = a[mask]\n",
    "print(extract_from_a)"
   ]
  },
  {
   "cell_type": "code",
   "execution_count": 79,
   "id": "38f0d04e-86cd-41e0-97be-90e90f58cf3b",
   "metadata": {},
   "outputs": [
    {
     "name": "stdout",
     "output_type": "stream",
     "text": [
      "[2 3 4 5]\n",
      "[ 1  4  9 16]\n"
     ]
    }
   ],
   "source": [
    "# Numerical operations on Numpy\n",
    "a = np.array([1, 2, 3, 4])\n",
    "\n",
    "#Element wise operations\n",
    "print(a + 1) # Scalar addition\n",
    "print(a ** 2)\n"
   ]
  },
  {
   "cell_type": "code",
   "execution_count": 82,
   "id": "7c3835a2-2a2f-4298-a345-dca31a77858b",
   "metadata": {},
   "outputs": [
    {
     "name": "stdout",
     "output_type": "stream",
     "text": [
      "[-1.  0.  1.  2.]\n",
      "[2. 4. 6. 8.]\n"
     ]
    }
   ],
   "source": [
    "# Arithmetic elementwise operations\n",
    "a = np.array([1, 2, 3, 4])\n",
    "b = np.ones(4) + 1\n",
    "\n",
    "print(a - b)\n",
    "print(a * b) # Element wise multiplication"
   ]
  },
  {
   "cell_type": "code",
   "execution_count": 86,
   "id": "d66b41ba-b0e4-4267-8bbd-f4e266c17bb9",
   "metadata": {},
   "outputs": [
    {
     "name": "stdout",
     "output_type": "stream",
     "text": [
      "[[ 1  0  0  0]\n",
      " [ 0  4  0  0]\n",
      " [ 0  0  9  0]\n",
      " [ 0  0  0 16]]\n",
      "*********************************\n",
      "[[ 1  0  0  0]\n",
      " [ 0  4  0  0]\n",
      " [ 0  0  9  0]\n",
      " [ 0  0  0 16]]\n"
     ]
    }
   ],
   "source": [
    "# Matrix multiplication\n",
    "c = np.diag([1, 2, 3, 4])\n",
    "\n",
    "# We can do matrix-multiplication using both the methods\n",
    "print(c * c) \n",
    "print(\"*********************************\")\n",
    "print(c.dot(c)) "
   ]
  },
  {
   "cell_type": "code",
   "execution_count": 87,
   "id": "6ebc9bcd-fbbc-4f89-ad97-02cf89e84cdc",
   "metadata": {},
   "outputs": [
    {
     "name": "stdout",
     "output_type": "stream",
     "text": [
      "[False  True False  True]\n",
      "[False False  True False]\n"
     ]
    }
   ],
   "source": [
    "# Comparisons\n",
    "\n",
    "a = np.array([1, 2, 3, 4])\n",
    "b = np.array([5, 2, 2, 4])\n",
    "\n",
    "print(a == b)\n",
    "print(a > b)"
   ]
  },
  {
   "cell_type": "code",
   "execution_count": 89,
   "id": "79775806-e5a6-4160-ab43-8e965a1e19de",
   "metadata": {},
   "outputs": [
    {
     "name": "stdout",
     "output_type": "stream",
     "text": [
      "False\n",
      "True\n"
     ]
    }
   ],
   "source": [
    "# Array-wise comparison\n",
    "a = np.array([1, 2, 3, 4])\n",
    "b = np.array([5, 2, 2, 4])\n",
    "c = np.array([1, 2, 3, 4])\n",
    "\n",
    "print(np.array_equal(a, b))\n",
    "print(np.array_equal(a, c))"
   ]
  },
  {
   "cell_type": "code",
   "execution_count": 107,
   "id": "f78af4c4-c3ce-4b70-a5bd-32d699678830",
   "metadata": {},
   "outputs": [
    {
     "name": "stdout",
     "output_type": "stream",
     "text": [
      "[ True  True  True False]\n",
      "[ True False False False]\n",
      "False\n",
      "True\n"
     ]
    }
   ],
   "source": [
    "# Logical operations\n",
    "\n",
    "a = np.array([1, 1, 0, 0], dtype = bool)\n",
    "b = np.array([1, 0, 1, 0], dtype = bool)\n",
    "\n",
    "print(np.logical_or(a, b))\n",
    "print(np.logical_and(a, b))\n",
    "print(np.all([True, True, False])) # Logical AND\n",
    "print(np.any([True, True, False])) # Logical OR"
   ]
  },
  {
   "cell_type": "code",
   "execution_count": 108,
   "id": "b2b8ca8a-fc7b-43b3-bf04-68b434a9098c",
   "metadata": {},
   "outputs": [
    {
     "name": "stdout",
     "output_type": "stream",
     "text": [
      "[1 2 3 4]\n",
      "[ 0.84147098  0.90929743  0.14112001 -0.7568025 ]\n",
      "[0.         0.69314718 1.09861229 1.38629436]\n",
      "[ 2.71828183  7.3890561  20.08553692 54.59815003]\n"
     ]
    }
   ],
   "source": [
    "# Mathematical functions in Numpy\n",
    "\n",
    "a = np.arange(1, 5)\n",
    "\n",
    "print(a)\n",
    "print(np.sin(a))\n",
    "print(np.log(a))\n",
    "print(np.exp(a)) # e ^ x"
   ]
  },
  {
   "cell_type": "code",
   "execution_count": 105,
   "id": "a584885e-b77a-4b3d-b4b6-8853f2e2b857",
   "metadata": {},
   "outputs": [
    {
     "name": "stdout",
     "output_type": "stream",
     "text": [
      "10\n",
      "1\n",
      "4\n",
      "0\n",
      "2\n",
      "[[1 1]\n",
      " [2 2]]\n",
      "[2 4]\n"
     ]
    }
   ],
   "source": [
    "# Basic Reductions\n",
    "\n",
    "x = np.array([1, 2, 3, 4])\n",
    "print(np.sum(x))\n",
    "print(x.min())\n",
    "print(x.max())\n",
    "print(x.argmin()) # Index of min element\n",
    "print(y.argmax()) # Index of max element\n",
    "\n",
    "y = np.array([[1, 1], [2, 2]])\n",
    "print(y)\n",
    "print(y.sum(axis = 1))"
   ]
  },
  {
   "cell_type": "code",
   "execution_count": 115,
   "id": "954c8dcd-ad08-4ebd-9b8c-0785894e700f",
   "metadata": {},
   "outputs": [
    {
     "name": "stdout",
     "output_type": "stream",
     "text": [
      "[1 2 3 1]\n",
      "[[1 2 3]\n",
      " [5 6 1]]\n",
      "*****************************************\n",
      "1.75\n",
      "1.5\n",
      "[2. 5.]\n",
      "0.82915619758885\n"
     ]
    }
   ],
   "source": [
    "# Statistics\n",
    "x = np.array([1, 2, 3, 1])\n",
    "y = np.array([[1, 2, 3], [5, 6, 1]])\n",
    "\n",
    "print(x)\n",
    "print(y)\n",
    "print(\"*****************************************\")\n",
    "print(x.mean())\n",
    "print(np.median(x))\n",
    "print(np.median(y, axis = 1)) # Last Axis (X Axis)\n",
    "print(x.std()) # STandard Deviation"
   ]
  },
  {
   "cell_type": "markdown",
   "id": "72e70940-d662-488e-834b-17bfeaa943f9",
   "metadata": {},
   "source": [
    "# Numpy operations on populations.txt file-It has the populations of hares, lynxes and carrots during 20 years"
   ]
  },
  {
   "cell_type": "code",
   "execution_count": 123,
   "id": "f75d1176-4100-4056-b19c-fc1171f4a961",
   "metadata": {},
   "outputs": [],
   "source": [
    "#Load data into numpy array object\n",
    "data = np.loadtxt('populations.txt')"
   ]
  },
  {
   "cell_type": "code",
   "execution_count": 124,
   "id": "ba3744f1-9178-47a6-adda-d7a7adab8ff7",
   "metadata": {},
   "outputs": [
    {
     "name": "stdout",
     "output_type": "stream",
     "text": [
      "[[ 1900. 30000.  4000. 48300.]\n",
      " [ 1901. 47200.  6100. 48200.]\n",
      " [ 1902. 70200.  9800. 41500.]\n",
      " [ 1903. 77400. 35200. 38200.]\n",
      " [ 1904. 36300. 59400. 40600.]\n",
      " [ 1905. 20600. 41700. 39800.]\n",
      " [ 1906. 18100. 19000. 38600.]\n",
      " [ 1907. 21400. 13000. 42300.]\n",
      " [ 1908. 22000.  8300. 44500.]\n",
      " [ 1909. 25400.  9100. 42100.]\n",
      " [ 1910. 27100.  7400. 46000.]\n",
      " [ 1911. 40300.  8000. 46800.]\n",
      " [ 1912. 57000. 12300. 43800.]\n",
      " [ 1913. 76600. 19500. 40900.]\n",
      " [ 1914. 52300. 45700. 39400.]\n",
      " [ 1915. 19500. 51100. 39000.]\n",
      " [ 1916. 11200. 29700. 36700.]\n",
      " [ 1917.  7600. 15800. 41800.]\n",
      " [ 1918. 14600.  9700. 43300.]\n",
      " [ 1919. 16200. 10100. 41300.]\n",
      " [ 1920. 24700.  8600. 47300.]]\n"
     ]
    }
   ],
   "source": [
    "print(data)"
   ]
  },
  {
   "cell_type": "code",
   "execution_count": 126,
   "id": "1cf56098-0b41-46fd-9980-8ce2f92ea5a0",
   "metadata": {},
   "outputs": [
    {
     "name": "stdout",
     "output_type": "stream",
     "text": [
      "[1900. 1901. 1902. 1903. 1904. 1905. 1906. 1907. 1908. 1909. 1910. 1911.\n",
      " 1912. 1913. 1914. 1915. 1916. 1917. 1918. 1919. 1920.]\n"
     ]
    }
   ],
   "source": [
    "year, hares, lynxex, carrots = data.T # Columns to variables\n",
    "print(year)"
   ]
  },
  {
   "cell_type": "code",
   "execution_count": 131,
   "id": "a85ae2a8-286d-440e-8bd3-cf113738b470",
   "metadata": {},
   "outputs": [
    {
     "data": {
      "text/plain": [
       "array([[30000.,  4000., 48300.],\n",
       "       [47200.,  6100., 48200.],\n",
       "       [70200.,  9800., 41500.],\n",
       "       [77400., 35200., 38200.],\n",
       "       [36300., 59400., 40600.],\n",
       "       [20600., 41700., 39800.],\n",
       "       [18100., 19000., 38600.],\n",
       "       [21400., 13000., 42300.],\n",
       "       [22000.,  8300., 44500.],\n",
       "       [25400.,  9100., 42100.],\n",
       "       [27100.,  7400., 46000.],\n",
       "       [40300.,  8000., 46800.],\n",
       "       [57000., 12300., 43800.],\n",
       "       [76600., 19500., 40900.],\n",
       "       [52300., 45700., 39400.],\n",
       "       [19500., 51100., 39000.],\n",
       "       [11200., 29700., 36700.],\n",
       "       [ 7600., 15800., 41800.],\n",
       "       [14600.,  9700., 43300.],\n",
       "       [16200., 10100., 41300.],\n",
       "       [24700.,  8600., 47300.]])"
      ]
     },
     "execution_count": 131,
     "metadata": {},
     "output_type": "execute_result"
    }
   ],
   "source": [
    "# The mean population over time\n",
    "populations = data[:,1:]\n",
    "populations"
   ]
  },
  {
   "cell_type": "code",
   "execution_count": 136,
   "id": "9791cdb8-93d9-4e16-b63b-5e46c000d5af",
   "metadata": {},
   "outputs": [
    {
     "name": "stdout",
     "output_type": "stream",
     "text": [
      "[20897.90645809 16254.59153691  3322.50622558]\n",
      "[2 2 0 0 1 1 2 2 2 2 2 2 0 0 0 1 2 2 2 2 2]\n"
     ]
    }
   ],
   "source": [
    "# Std deviation\n",
    "print(populations.std(axis = 0))\n",
    "\n",
    "# Which species has the highest population each year?\n",
    "print(np.argmax(populations, axis = 1))"
   ]
  },
  {
   "cell_type": "code",
   "execution_count": 147,
   "id": "331cdf14-e878-4555-adb7-1bb818a02cf2",
   "metadata": {},
   "outputs": [
    {
     "name": "stdout",
     "output_type": "stream",
     "text": [
      "[[ 0 10 20 30]\n",
      " [ 0 10 20 30]\n",
      " [ 0 10 20 30]]\n",
      "******************************************\n",
      "[[ 0  0  0]\n",
      " [10 10 10]\n",
      " [20 20 20]\n",
      " [30 30 30]]\n",
      "********************************************\n",
      "[0 1 2]\n",
      "**********************************************\n",
      "[[ 0  1  2]\n",
      " [10 11 12]\n",
      " [20 21 22]\n",
      " [30 31 32]]\n",
      "***********************************************\n",
      "[[ 0]\n",
      " [10]\n",
      " [20]\n",
      " [30]]\n",
      "*************************************************\n",
      "[[ 0  1  2]\n",
      " [10 11 12]\n",
      " [20 21 22]\n",
      " [30 31 32]]\n"
     ]
    }
   ],
   "source": [
    "# Broadcasting operation in Numpy\n",
    "# a mechanism that allows for efficient arithmetic operations on arrays of different \n",
    "# shapes by implicitly expanding (or \"broadcasting\") the smaller array to match the \n",
    "# larger array's shape\n",
    "\n",
    "a1 = np.tile(np.arange(0, 40, 10), (3, 1)) # Replicate in 3 times in the rows 1 time.\n",
    "print(a1)\n",
    "print(\"******************************************\")\n",
    "a1 = a1.T # Transpose of a1\n",
    "print(a1)\n",
    "\n",
    "print(\"********************************************\")\n",
    "a2 = np.array([0, 1, 2])\n",
    "print(a2)\n",
    "\n",
    "print(\"**********************************************\")\n",
    "print(a1 + a2)\n",
    "\n",
    "print(\"***********************************************\")\n",
    "a3 = np.arange(0, 40 , 10)\n",
    "a3 = a3[:, np.newaxis] # Adds a new axis making it a 2-D array.\n",
    "print(a3)\n",
    "\n",
    "print(\"*************************************************\")\n",
    "print(a2 + a3)"
   ]
  },
  {
   "cell_type": "code",
   "execution_count": 157,
   "id": "b783ce9d-f37b-4ed4-969c-f5330608d7a3",
   "metadata": {},
   "outputs": [
    {
     "name": "stdout",
     "output_type": "stream",
     "text": [
      "[1 2 3 4 5 6]\n",
      "[[1 4]\n",
      " [2 5]\n",
      " [3 6]]\n",
      "[1 4 2 5 3 6]\n",
      "**********************************************\n",
      "[[1 2 3]\n",
      " [4 5 6]]\n"
     ]
    }
   ],
   "source": [
    "# Array Shape Manipulations\n",
    "\n",
    "a = np.array([[1, 2, 3], [4, 5, 6]])\n",
    "print(a.ravel()) # Flattens the array into a 1-D array\n",
    "print(a.T) # Transpose of the array\n",
    "print(a.T.ravel())\n",
    "\n",
    "print(\"**********************************************\")\n",
    "#Reshaping\n",
    "b = a.ravel()\n",
    "b = b.reshape((2, 3))\n",
    "print(b)"
   ]
  },
  {
   "cell_type": "code",
   "execution_count": 162,
   "id": "9cb4f9e0-a741-4f08-ad85-070304c5ec01",
   "metadata": {},
   "outputs": [
    {
     "data": {
      "text/plain": [
       "array([[1],\n",
       "       [2],\n",
       "       [3]])"
      ]
     },
     "execution_count": 162,
     "metadata": {},
     "output_type": "execute_result"
    }
   ],
   "source": [
    "# Adding a new dimension to an array / matrix\n",
    "z = np.array([1, 2, 3])\n",
    "z[:, np.newaxis]"
   ]
  },
  {
   "cell_type": "code",
   "execution_count": null,
   "id": "556daf2d-984a-4ff7-954d-f9a4bb59b13f",
   "metadata": {},
   "outputs": [],
   "source": []
  }
 ],
 "metadata": {
  "kernelspec": {
   "display_name": "Python 3 (ipykernel)",
   "language": "python",
   "name": "python3"
  },
  "language_info": {
   "codemirror_mode": {
    "name": "ipython",
    "version": 3
   },
   "file_extension": ".py",
   "mimetype": "text/x-python",
   "name": "python",
   "nbconvert_exporter": "python",
   "pygments_lexer": "ipython3",
   "version": "3.12.10"
  }
 },
 "nbformat": 4,
 "nbformat_minor": 5
}
