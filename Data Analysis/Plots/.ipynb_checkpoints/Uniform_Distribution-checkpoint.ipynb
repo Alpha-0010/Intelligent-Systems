{
 "cells": [
  {
   "cell_type": "code",
   "execution_count": 1,
   "id": "e28c77d5-1a90-4057-bcf3-1b7065fbe1f5",
   "metadata": {},
   "outputs": [
    {
     "data": {
      "text/plain": [
       "0.9229514755709459"
      ]
     },
     "execution_count": 1,
     "metadata": {},
     "output_type": "execute_result"
    }
   ],
   "source": [
    "import random\n",
    "random.random()"
   ]
  },
  {
   "cell_type": "code",
   "execution_count": 2,
   "id": "6eb91c96-626e-43bc-af8e-6b18b2acfaee",
   "metadata": {},
   "outputs": [
    {
     "data": {
      "text/plain": [
       "(150, 4)"
      ]
     },
     "execution_count": 2,
     "metadata": {},
     "output_type": "execute_result"
    }
   ],
   "source": [
    "# Load Iris dataset with 150 points\n",
    "from sklearn import datasets\n",
    "iris=datasets.load_iris()\n",
    "d = iris.data\n",
    "d.shape"
   ]
  },
  {
   "cell_type": "code",
   "execution_count": 20,
   "id": "64c5fc5e-8569-47de-8b03-4b604526a08a",
   "metadata": {},
   "outputs": [
    {
     "data": {
      "text/plain": [
       "31"
      ]
     },
     "execution_count": 20,
     "metadata": {},
     "output_type": "execute_result"
    }
   ],
   "source": [
    "# Sample 30 points uniformly and randomly from the 150 point dataset\n",
    "n = 150\n",
    "m = 30\n",
    "p = m / n\n",
    "\n",
    "sampled_data = []\n",
    "\n",
    "for i in range(0, n):\n",
    "    if random.random() <= p:\n",
    "        sampled_data.append(d[i,:])\n",
    "\n",
    "len(sampled_data)"
   ]
  },
  {
   "cell_type": "code",
   "execution_count": null,
   "id": "2991401f-60f8-4cf5-82ba-92031c3f4a02",
   "metadata": {},
   "outputs": [],
   "source": []
  }
 ],
 "metadata": {
  "kernelspec": {
   "display_name": "Python 3 (ipykernel)",
   "language": "python",
   "name": "python3"
  },
  "language_info": {
   "codemirror_mode": {
    "name": "ipython",
    "version": 3
   },
   "file_extension": ".py",
   "mimetype": "text/x-python",
   "name": "python",
   "nbconvert_exporter": "python",
   "pygments_lexer": "ipython3",
   "version": "3.12.10"
  }
 },
 "nbformat": 4,
 "nbformat_minor": 5
}
